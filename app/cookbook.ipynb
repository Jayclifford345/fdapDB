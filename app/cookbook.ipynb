{
 "cells": [
  {
   "cell_type": "markdown",
   "metadata": {},
   "source": [
    "# The Pokemon Cookbook\n",
    "This cookbook teaches you the concepts of the InfluxDB 3.0 Python Client library using a novel example of Pokemon data. The scenerio is to keep track of each trainer and the number of different pokemon they have caught.\n",
    "\n",
    "<p align=\"center\">\n",
    "<img height=\"300\" src=\"https://www.nicepng.com/png/full/62-622961_no-one-knows-if-people-eat-pokmon-png.png\">\n",
    "</p>"
   ]
  },
  {
   "cell_type": "code",
   "execution_count": 39,
   "metadata": {},
   "outputs": [],
   "source": [
    "\n",
    "# Here we include all the imports required from influxdb_client_3 \n",
    "import pandas as pd\n",
    "import random\n",
    "from pyarrow.flight import FlightDescriptor, FlightClient\n",
    "from pyarrow import flight\n",
    "# These are just some library imports for Plotly so we can make use of the interactive graphs.\n",
    "import plotly.express as px\n",
    "import plotly.io as pio\n",
    "\n",
    "pio.renderers.default = \"vscode\""
   ]
  },
  {
   "cell_type": "markdown",
   "metadata": {},
   "source": [
    "## Writing Data\n",
    "The first step is to write data into InfluxDB. We will use the `write_api` to write data into InfluxDB. In this example we are going to utilise `batching mode` to write data in batches. This is the most efficient way to write data into InfluxDB. To do this we are going to first setup some paramters for our client."
   ]
  },
  {
   "cell_type": "markdown",
   "metadata": {},
   "source": [
    "## Client Setup\n",
    "Now that we have done the inital configurations of our write paramters its time to include these within our client initalization. The InfluxDB 3.0 Client can both write and query data. For now we will use it to write data based upon our configuration."
   ]
  },
  {
   "cell_type": "code",
   "execution_count": 40,
   "metadata": {},
   "outputs": [],
   "source": [
    "# In this example we are using the InfluxDBClient3 object to connect to the InfluxDB Cloud instance.\n",
    "# We are also passing in the write_client_options we created earlier.\n",
    "# The token, host and org are all required to connect to the InfluxDB Serverless instance.\n",
    "# Note: that Org is optional with Dedicated instances.\n",
    "\n",
    "\n",
    "client = FlightClient(\"grpc://localhost:8081\")\n",
    "\n",
    "\n",
    "\n",
    "now =  pd.Timestamp.now(tz='+00:00').floor('ms')\n",
    "\n",
    "# Lists of possible trainers\n",
    "trainers = [\"ash\", \"brock\", \"misty\", \"gary\", \"jessie\", \"james\"]\n",
    "\n",
    "# Read the CSV into a DataFrame. (Credit to @ritchie46 for the dataset)\n",
    "pokemon_df = pd.read_csv(\"./pokemon.csv\")\n",
    "\n",
    "# Creating an empty list to store the data\n",
    "data = []\n",
    "\n",
    "# Dictionary to keep track of the number of times each trainer has caught each Pokémon\n",
    "trainer_pokemon_counts = {}\n",
    "\n",
    "# Number of entries we want to create\n",
    "num_entries = 1000"
   ]
  },
  {
   "cell_type": "markdown",
   "metadata": {},
   "source": [
    "### Generate some data\n",
    "Now that we have our client setup lets start generating some data we can write to InfluxDB. Following the Pokemon example we will create a list of trainers and the number of pokemon they have caught. Trainers will catch pokemon randomly selected from our list stored within the Pandas DataFrame `pokemon_df`."
   ]
  },
  {
   "cell_type": "code",
   "execution_count": 41,
   "metadata": {},
   "outputs": [
    {
     "data": {
      "text/html": [
       "<div>\n",
       "<style scoped>\n",
       "    .dataframe tbody tr th:only-of-type {\n",
       "        vertical-align: middle;\n",
       "    }\n",
       "\n",
       "    .dataframe tbody tr th {\n",
       "        vertical-align: top;\n",
       "    }\n",
       "\n",
       "    .dataframe thead th {\n",
       "        text-align: right;\n",
       "    }\n",
       "</style>\n",
       "<table border=\"1\" class=\"dataframe\">\n",
       "  <thead>\n",
       "    <tr style=\"text-align: right;\">\n",
       "      <th></th>\n",
       "      <th>trainer</th>\n",
       "      <th>id</th>\n",
       "      <th>num</th>\n",
       "      <th>name</th>\n",
       "      <th>level</th>\n",
       "      <th>attack</th>\n",
       "      <th>defense</th>\n",
       "      <th>hp</th>\n",
       "      <th>speed</th>\n",
       "      <th>type1</th>\n",
       "      <th>type2</th>\n",
       "    </tr>\n",
       "    <tr>\n",
       "      <th>timestamp</th>\n",
       "      <th></th>\n",
       "      <th></th>\n",
       "      <th></th>\n",
       "      <th></th>\n",
       "      <th></th>\n",
       "      <th></th>\n",
       "      <th></th>\n",
       "      <th></th>\n",
       "      <th></th>\n",
       "      <th></th>\n",
       "      <th></th>\n",
       "    </tr>\n",
       "  </thead>\n",
       "  <tbody>\n",
       "    <tr>\n",
       "      <th>2023-11-22 07:59:21.542000+00:00</th>\n",
       "      <td>brock</td>\n",
       "      <td>0033</td>\n",
       "      <td>1</td>\n",
       "      <td>Nidorino</td>\n",
       "      <td>10</td>\n",
       "      <td>72</td>\n",
       "      <td>57</td>\n",
       "      <td>61</td>\n",
       "      <td>65</td>\n",
       "      <td>Poison</td>\n",
       "      <td>NaN</td>\n",
       "    </tr>\n",
       "    <tr>\n",
       "      <th>2023-11-22 07:59:21.542000+00:00</th>\n",
       "      <td>gary</td>\n",
       "      <td>0140</td>\n",
       "      <td>1</td>\n",
       "      <td>Kabuto</td>\n",
       "      <td>6</td>\n",
       "      <td>80</td>\n",
       "      <td>90</td>\n",
       "      <td>30</td>\n",
       "      <td>55</td>\n",
       "      <td>Rock</td>\n",
       "      <td>Water</td>\n",
       "    </tr>\n",
       "    <tr>\n",
       "      <th>2023-11-22 07:59:21.542000+00:00</th>\n",
       "      <td>misty</td>\n",
       "      <td>0012</td>\n",
       "      <td>1</td>\n",
       "      <td>Butterfree</td>\n",
       "      <td>6</td>\n",
       "      <td>45</td>\n",
       "      <td>50</td>\n",
       "      <td>60</td>\n",
       "      <td>70</td>\n",
       "      <td>Bug</td>\n",
       "      <td>Flying</td>\n",
       "    </tr>\n",
       "    <tr>\n",
       "      <th>2023-11-22 07:59:21.542000+00:00</th>\n",
       "      <td>ash</td>\n",
       "      <td>0130</td>\n",
       "      <td>1</td>\n",
       "      <td>GyaradosMega Gyarados</td>\n",
       "      <td>12</td>\n",
       "      <td>155</td>\n",
       "      <td>109</td>\n",
       "      <td>95</td>\n",
       "      <td>81</td>\n",
       "      <td>Water</td>\n",
       "      <td>Dark</td>\n",
       "    </tr>\n",
       "    <tr>\n",
       "      <th>2023-11-22 07:59:21.542000+00:00</th>\n",
       "      <td>jessie</td>\n",
       "      <td>0117</td>\n",
       "      <td>1</td>\n",
       "      <td>Seadra</td>\n",
       "      <td>15</td>\n",
       "      <td>65</td>\n",
       "      <td>95</td>\n",
       "      <td>55</td>\n",
       "      <td>85</td>\n",
       "      <td>Water</td>\n",
       "      <td>NaN</td>\n",
       "    </tr>\n",
       "    <tr>\n",
       "      <th>...</th>\n",
       "      <td>...</td>\n",
       "      <td>...</td>\n",
       "      <td>...</td>\n",
       "      <td>...</td>\n",
       "      <td>...</td>\n",
       "      <td>...</td>\n",
       "      <td>...</td>\n",
       "      <td>...</td>\n",
       "      <td>...</td>\n",
       "      <td>...</td>\n",
       "      <td>...</td>\n",
       "    </tr>\n",
       "    <tr>\n",
       "      <th>2023-11-22 07:59:21.542000+00:00</th>\n",
       "      <td>gary</td>\n",
       "      <td>0021</td>\n",
       "      <td>3</td>\n",
       "      <td>Spearow</td>\n",
       "      <td>9</td>\n",
       "      <td>60</td>\n",
       "      <td>30</td>\n",
       "      <td>40</td>\n",
       "      <td>70</td>\n",
       "      <td>Normal</td>\n",
       "      <td>Flying</td>\n",
       "    </tr>\n",
       "    <tr>\n",
       "      <th>2023-11-22 07:59:21.542000+00:00</th>\n",
       "      <td>ash</td>\n",
       "      <td>0120</td>\n",
       "      <td>1</td>\n",
       "      <td>Staryu</td>\n",
       "      <td>17</td>\n",
       "      <td>45</td>\n",
       "      <td>55</td>\n",
       "      <td>30</td>\n",
       "      <td>85</td>\n",
       "      <td>Water</td>\n",
       "      <td>NaN</td>\n",
       "    </tr>\n",
       "    <tr>\n",
       "      <th>2023-11-22 07:59:21.542000+00:00</th>\n",
       "      <td>misty</td>\n",
       "      <td>0080</td>\n",
       "      <td>2</td>\n",
       "      <td>SlowbroMega Slowbro</td>\n",
       "      <td>20</td>\n",
       "      <td>75</td>\n",
       "      <td>180</td>\n",
       "      <td>95</td>\n",
       "      <td>30</td>\n",
       "      <td>Water</td>\n",
       "      <td>Psychic</td>\n",
       "    </tr>\n",
       "    <tr>\n",
       "      <th>2023-11-22 07:59:21.542000+00:00</th>\n",
       "      <td>james</td>\n",
       "      <td>0005</td>\n",
       "      <td>2</td>\n",
       "      <td>Charmeleon</td>\n",
       "      <td>10</td>\n",
       "      <td>64</td>\n",
       "      <td>58</td>\n",
       "      <td>58</td>\n",
       "      <td>80</td>\n",
       "      <td>Fire</td>\n",
       "      <td>NaN</td>\n",
       "    </tr>\n",
       "    <tr>\n",
       "      <th>2023-11-22 07:59:21.542000+00:00</th>\n",
       "      <td>james</td>\n",
       "      <td>0128</td>\n",
       "      <td>3</td>\n",
       "      <td>Tauros</td>\n",
       "      <td>14</td>\n",
       "      <td>100</td>\n",
       "      <td>95</td>\n",
       "      <td>75</td>\n",
       "      <td>110</td>\n",
       "      <td>Normal</td>\n",
       "      <td>NaN</td>\n",
       "    </tr>\n",
       "  </tbody>\n",
       "</table>\n",
       "<p>1000 rows × 11 columns</p>\n",
       "</div>"
      ],
      "text/plain": [
       "                                 trainer    id num                   name  \\\n",
       "timestamp                                                                   \n",
       "2023-11-22 07:59:21.542000+00:00   brock  0033   1               Nidorino   \n",
       "2023-11-22 07:59:21.542000+00:00    gary  0140   1                 Kabuto   \n",
       "2023-11-22 07:59:21.542000+00:00   misty  0012   1             Butterfree   \n",
       "2023-11-22 07:59:21.542000+00:00     ash  0130   1  GyaradosMega Gyarados   \n",
       "2023-11-22 07:59:21.542000+00:00  jessie  0117   1                 Seadra   \n",
       "...                                  ...   ...  ..                    ...   \n",
       "2023-11-22 07:59:21.542000+00:00    gary  0021   3                Spearow   \n",
       "2023-11-22 07:59:21.542000+00:00     ash  0120   1                 Staryu   \n",
       "2023-11-22 07:59:21.542000+00:00   misty  0080   2    SlowbroMega Slowbro   \n",
       "2023-11-22 07:59:21.542000+00:00   james  0005   2             Charmeleon   \n",
       "2023-11-22 07:59:21.542000+00:00   james  0128   3                 Tauros   \n",
       "\n",
       "                                  level  attack  defense  hp  speed   type1  \\\n",
       "timestamp                                                                     \n",
       "2023-11-22 07:59:21.542000+00:00     10      72       57  61     65  Poison   \n",
       "2023-11-22 07:59:21.542000+00:00      6      80       90  30     55    Rock   \n",
       "2023-11-22 07:59:21.542000+00:00      6      45       50  60     70     Bug   \n",
       "2023-11-22 07:59:21.542000+00:00     12     155      109  95     81   Water   \n",
       "2023-11-22 07:59:21.542000+00:00     15      65       95  55     85   Water   \n",
       "...                                 ...     ...      ...  ..    ...     ...   \n",
       "2023-11-22 07:59:21.542000+00:00      9      60       30  40     70  Normal   \n",
       "2023-11-22 07:59:21.542000+00:00     17      45       55  30     85   Water   \n",
       "2023-11-22 07:59:21.542000+00:00     20      75      180  95     30   Water   \n",
       "2023-11-22 07:59:21.542000+00:00     10      64       58  58     80    Fire   \n",
       "2023-11-22 07:59:21.542000+00:00     14     100       95  75    110  Normal   \n",
       "\n",
       "                                    type2  \n",
       "timestamp                                  \n",
       "2023-11-22 07:59:21.542000+00:00      NaN  \n",
       "2023-11-22 07:59:21.542000+00:00    Water  \n",
       "2023-11-22 07:59:21.542000+00:00   Flying  \n",
       "2023-11-22 07:59:21.542000+00:00     Dark  \n",
       "2023-11-22 07:59:21.542000+00:00      NaN  \n",
       "...                                   ...  \n",
       "2023-11-22 07:59:21.542000+00:00   Flying  \n",
       "2023-11-22 07:59:21.542000+00:00      NaN  \n",
       "2023-11-22 07:59:21.542000+00:00  Psychic  \n",
       "2023-11-22 07:59:21.542000+00:00      NaN  \n",
       "2023-11-22 07:59:21.542000+00:00      NaN  \n",
       "\n",
       "[1000 rows x 11 columns]"
      ]
     },
     "metadata": {},
     "output_type": "display_data"
    }
   ],
   "source": [
    "from IPython.display import display, HTML\n",
    "\n",
    "# Generating random data\n",
    "for i in range(num_entries):\n",
    "    trainer = random.choice(trainers)\n",
    "    \n",
    "    # Randomly select a row from pokemon_df\n",
    "    random_pokemon = pokemon_df.sample().iloc[0]\n",
    "    caught = random_pokemon['Name']\n",
    "    \n",
    "    # Count the number of times this trainer has caught this Pokémon\n",
    "    if (trainer, caught) in trainer_pokemon_counts:\n",
    "        trainer_pokemon_counts[(trainer, caught)] += 1\n",
    "    else:\n",
    "        trainer_pokemon_counts[(trainer, caught)] = 1\n",
    "    \n",
    "    # Get the number for this combination of trainer and Pokémon\n",
    "    num = trainer_pokemon_counts[(trainer, caught)]\n",
    "\n",
    "    entry = {\n",
    "        \"trainer\": trainer,\n",
    "        \"id\": f\"{0000 + random_pokemon['#']:04d}\",\n",
    "        \"num\": str(num),\n",
    "        \"name\": caught,\n",
    "        \"level\": random.randint(5, 20),\n",
    "        \"attack\": random_pokemon['Attack'],\n",
    "        \"defense\": random_pokemon['Defense'],\n",
    "        \"hp\": random_pokemon['HP'],\n",
    "        \"speed\": random_pokemon['Speed'],\n",
    "        \"type1\": random_pokemon['Type 1'],\n",
    "        \"type2\": random_pokemon['Type 2'],\n",
    "        \"timestamp\": now\n",
    "    }\n",
    "    data.append(entry)\n",
    "\n",
    "# Convert the list of dictionaries to a DataFrame\n",
    "caught_pokemon_df = pd.DataFrame(data).set_index('timestamp')\n",
    "\n",
    "# Print the DataFrame\n",
    "display(caught_pokemon_df)"
   ]
  },
  {
   "cell_type": "markdown",
   "metadata": {},
   "source": [
    "### Write Data to FDAP"
   ]
  },
  {
   "cell_type": "code",
   "execution_count": 42,
   "metadata": {},
   "outputs": [
    {
     "name": "stdout",
     "output_type": "stream",
     "text": [
      "wrote: pyarrow.Table\n",
      "trainer: string\n",
      "id: string\n",
      "num: string\n",
      "name: string\n",
      "level: int64\n",
      "attack: int64\n",
      "defense: int64\n",
      "hp: int64\n",
      "speed: int64\n",
      "type1: string\n",
      "type2: string\n",
      "timestamp: timestamp[ns, tz=UTC]\n",
      "----\n",
      "trainer: [[\"brock\",\"gary\",\"misty\",\"ash\",\"jessie\",...,\"gary\",\"ash\",\"misty\",\"james\",\"james\"]]\n",
      "id: [[\"0033\",\"0140\",\"0012\",\"0130\",\"0117\",...,\"0021\",\"0120\",\"0080\",\"0005\",\"0128\"]]\n",
      "num: [[\"1\",\"1\",\"1\",\"1\",\"1\",...,\"3\",\"1\",\"2\",\"2\",\"3\"]]\n",
      "name: [[\"Nidorino\",\"Kabuto\",\"Butterfree\",\"GyaradosMega Gyarados\",\"Seadra\",...,\"Spearow\",\"Staryu\",\"SlowbroMega Slowbro\",\"Charmeleon\",\"Tauros\"]]\n",
      "level: [[10,6,6,12,15,...,9,17,20,10,14]]\n",
      "attack: [[72,80,45,155,65,...,60,45,75,64,100]]\n",
      "defense: [[57,90,50,109,95,...,30,55,180,58,95]]\n",
      "hp: [[61,30,60,95,55,...,40,30,95,58,75]]\n",
      "speed: [[65,55,70,81,85,...,70,85,30,80,110]]\n",
      "type1: [[\"Poison\",\"Rock\",\"Bug\",\"Water\",\"Water\",...,\"Normal\",\"Water\",\"Water\",\"Fire\",\"Normal\"]]\n",
      "...\n"
     ]
    }
   ],
   "source": [
    "import time\n",
    "import pyarrow as pa\n",
    "\n",
    "# Convert the DataFrame to an Arrow Table\n",
    "table = pa.Table.from_pandas(caught_pokemon_df)\n",
    "\n",
    "try:\n",
    "    descriptor = FlightDescriptor.for_path(\"pokemon\")\n",
    "    writer, _ = client.do_put(descriptor, table.schema)\n",
    "    writer.write_table(table)\n",
    "    print(f\"wrote: {table}\")\n",
    "    writer.close()\n",
    "except Exception as e:\n",
    "    print(f\"Error writing point: {e}\")\n",
    "\n"
   ]
  },
  {
   "cell_type": "markdown",
   "metadata": {},
   "source": [
    "## Querying Data\n",
    "We have now stored 1000 registered pokemon catches within InfluxDB. We can now query this data using the InfluxDB 3.0 Python Client to gain some insights into our data. We are going to use Plotly to visualise our data."
   ]
  },
  {
   "cell_type": "code",
   "execution_count": 43,
   "metadata": {},
   "outputs": [
    {
     "data": {
      "text/html": [
       "<div>\n",
       "<style scoped>\n",
       "    .dataframe tbody tr th:only-of-type {\n",
       "        vertical-align: middle;\n",
       "    }\n",
       "\n",
       "    .dataframe tbody tr th {\n",
       "        vertical-align: top;\n",
       "    }\n",
       "\n",
       "    .dataframe thead th {\n",
       "        text-align: right;\n",
       "    }\n",
       "</style>\n",
       "<table border=\"1\" class=\"dataframe\">\n",
       "  <thead>\n",
       "    <tr style=\"text-align: right;\">\n",
       "      <th></th>\n",
       "      <th>table_catalog</th>\n",
       "      <th>table_schema</th>\n",
       "      <th>table_name</th>\n",
       "      <th>column_name</th>\n",
       "      <th>data_type</th>\n",
       "      <th>is_nullable</th>\n",
       "    </tr>\n",
       "  </thead>\n",
       "  <tbody>\n",
       "    <tr>\n",
       "      <th>0</th>\n",
       "      <td>datafusion</td>\n",
       "      <td>public</td>\n",
       "      <td>pokemon</td>\n",
       "      <td>trainer</td>\n",
       "      <td>Utf8</td>\n",
       "      <td>YES</td>\n",
       "    </tr>\n",
       "    <tr>\n",
       "      <th>1</th>\n",
       "      <td>datafusion</td>\n",
       "      <td>public</td>\n",
       "      <td>pokemon</td>\n",
       "      <td>id</td>\n",
       "      <td>Utf8</td>\n",
       "      <td>YES</td>\n",
       "    </tr>\n",
       "    <tr>\n",
       "      <th>2</th>\n",
       "      <td>datafusion</td>\n",
       "      <td>public</td>\n",
       "      <td>pokemon</td>\n",
       "      <td>num</td>\n",
       "      <td>Utf8</td>\n",
       "      <td>YES</td>\n",
       "    </tr>\n",
       "    <tr>\n",
       "      <th>3</th>\n",
       "      <td>datafusion</td>\n",
       "      <td>public</td>\n",
       "      <td>pokemon</td>\n",
       "      <td>name</td>\n",
       "      <td>Utf8</td>\n",
       "      <td>YES</td>\n",
       "    </tr>\n",
       "    <tr>\n",
       "      <th>4</th>\n",
       "      <td>datafusion</td>\n",
       "      <td>public</td>\n",
       "      <td>pokemon</td>\n",
       "      <td>level</td>\n",
       "      <td>Int64</td>\n",
       "      <td>YES</td>\n",
       "    </tr>\n",
       "    <tr>\n",
       "      <th>5</th>\n",
       "      <td>datafusion</td>\n",
       "      <td>public</td>\n",
       "      <td>pokemon</td>\n",
       "      <td>attack</td>\n",
       "      <td>Int64</td>\n",
       "      <td>YES</td>\n",
       "    </tr>\n",
       "    <tr>\n",
       "      <th>6</th>\n",
       "      <td>datafusion</td>\n",
       "      <td>public</td>\n",
       "      <td>pokemon</td>\n",
       "      <td>defense</td>\n",
       "      <td>Int64</td>\n",
       "      <td>YES</td>\n",
       "    </tr>\n",
       "    <tr>\n",
       "      <th>7</th>\n",
       "      <td>datafusion</td>\n",
       "      <td>public</td>\n",
       "      <td>pokemon</td>\n",
       "      <td>hp</td>\n",
       "      <td>Int64</td>\n",
       "      <td>YES</td>\n",
       "    </tr>\n",
       "    <tr>\n",
       "      <th>8</th>\n",
       "      <td>datafusion</td>\n",
       "      <td>public</td>\n",
       "      <td>pokemon</td>\n",
       "      <td>speed</td>\n",
       "      <td>Int64</td>\n",
       "      <td>YES</td>\n",
       "    </tr>\n",
       "    <tr>\n",
       "      <th>9</th>\n",
       "      <td>datafusion</td>\n",
       "      <td>public</td>\n",
       "      <td>pokemon</td>\n",
       "      <td>type1</td>\n",
       "      <td>Utf8</td>\n",
       "      <td>YES</td>\n",
       "    </tr>\n",
       "    <tr>\n",
       "      <th>10</th>\n",
       "      <td>datafusion</td>\n",
       "      <td>public</td>\n",
       "      <td>pokemon</td>\n",
       "      <td>type2</td>\n",
       "      <td>Utf8</td>\n",
       "      <td>YES</td>\n",
       "    </tr>\n",
       "    <tr>\n",
       "      <th>11</th>\n",
       "      <td>datafusion</td>\n",
       "      <td>public</td>\n",
       "      <td>pokemon</td>\n",
       "      <td>timestamp</td>\n",
       "      <td>Timestamp(Nanosecond, Some(\"UTC\"))</td>\n",
       "      <td>YES</td>\n",
       "    </tr>\n",
       "  </tbody>\n",
       "</table>\n",
       "</div>"
      ],
      "text/plain": [
       "   table_catalog table_schema table_name column_name  \\\n",
       "0     datafusion       public    pokemon     trainer   \n",
       "1     datafusion       public    pokemon          id   \n",
       "2     datafusion       public    pokemon         num   \n",
       "3     datafusion       public    pokemon        name   \n",
       "4     datafusion       public    pokemon       level   \n",
       "5     datafusion       public    pokemon      attack   \n",
       "6     datafusion       public    pokemon     defense   \n",
       "7     datafusion       public    pokemon          hp   \n",
       "8     datafusion       public    pokemon       speed   \n",
       "9     datafusion       public    pokemon       type1   \n",
       "10    datafusion       public    pokemon       type2   \n",
       "11    datafusion       public    pokemon   timestamp   \n",
       "\n",
       "                             data_type is_nullable  \n",
       "0                                 Utf8         YES  \n",
       "1                                 Utf8         YES  \n",
       "2                                 Utf8         YES  \n",
       "3                                 Utf8         YES  \n",
       "4                                Int64         YES  \n",
       "5                                Int64         YES  \n",
       "6                                Int64         YES  \n",
       "7                                Int64         YES  \n",
       "8                                Int64         YES  \n",
       "9                                 Utf8         YES  \n",
       "10                                Utf8         YES  \n",
       "11  Timestamp(Nanosecond, Some(\"UTC\"))         YES  "
      ]
     },
     "metadata": {},
     "output_type": "display_data"
    }
   ],
   "source": [
    "\n",
    "import json\n",
    "from pyarrow.flight import Ticket\n",
    "\n",
    "\n",
    "\n",
    "# Lets start with a simple query to understand our schema.\n",
    "query = '''SHOW COLUMNS FROM pokemon'''\n",
    "\n",
    "# We can use the query method to run a query against the database.\n",
    "# Under the hood this creates a flight ticket and uses the FlightClient to run the query. \n",
    "# For this example we are using the pandas mode, which will return a pandas DataFrame.\n",
    "# Language also allows us to specify the query language, in this case we are using SQL.\n",
    "ticket_bytes = json.dumps({'sql':query, 'table':'pokemon'})\n",
    "ticket = Ticket(ticket_bytes)\n",
    "reader = client.do_get(ticket)\n",
    "df = reader.read_all().to_pandas()\n",
    "\n",
    "display(df)"
   ]
  },
  {
   "cell_type": "markdown",
   "metadata": {},
   "source": [
    "### Simple Aggregation\n",
    "The first query we will run is a simple SQL query to get the number of pokemon caught by each trainer. We will then use Plotly to visualise this data."
   ]
  },
  {
   "cell_type": "code",
   "execution_count": 44,
   "metadata": {},
   "outputs": [
    {
     "name": "stdout",
     "output_type": "stream",
     "text": [
      "pyarrow.Table\n",
      "count: int64\n",
      "trainer: string\n",
      "----\n",
      "count: [[],[],...,[],[160]]\n",
      "trainer: [[],[],...,[],[\"ash\"]]\n"
     ]
    },
    {
     "data": {
      "application/vnd.plotly.v1+json": {
       "config": {
        "plotlyServerURL": "https://plot.ly"
       },
       "data": [
        {
         "alignmentgroup": "True",
         "hovertemplate": "trainer=%{x}<br>count=%{y}<extra></extra>",
         "legendgroup": "brock",
         "marker": {
          "color": "#636efa",
          "pattern": {
           "shape": ""
          }
         },
         "name": "brock",
         "offsetgroup": "brock",
         "orientation": "v",
         "showlegend": true,
         "textposition": "auto",
         "type": "bar",
         "x": [
          "brock"
         ],
         "xaxis": "x",
         "y": [
          165
         ],
         "yaxis": "y"
        },
        {
         "alignmentgroup": "True",
         "hovertemplate": "trainer=%{x}<br>count=%{y}<extra></extra>",
         "legendgroup": "gary",
         "marker": {
          "color": "#EF553B",
          "pattern": {
           "shape": ""
          }
         },
         "name": "gary",
         "offsetgroup": "gary",
         "orientation": "v",
         "showlegend": true,
         "textposition": "auto",
         "type": "bar",
         "x": [
          "gary"
         ],
         "xaxis": "x",
         "y": [
          139
         ],
         "yaxis": "y"
        },
        {
         "alignmentgroup": "True",
         "hovertemplate": "trainer=%{x}<br>count=%{y}<extra></extra>",
         "legendgroup": "misty",
         "marker": {
          "color": "#00cc96",
          "pattern": {
           "shape": ""
          }
         },
         "name": "misty",
         "offsetgroup": "misty",
         "orientation": "v",
         "showlegend": true,
         "textposition": "auto",
         "type": "bar",
         "x": [
          "misty"
         ],
         "xaxis": "x",
         "y": [
          182
         ],
         "yaxis": "y"
        },
        {
         "alignmentgroup": "True",
         "hovertemplate": "trainer=%{x}<br>count=%{y}<extra></extra>",
         "legendgroup": "jessie",
         "marker": {
          "color": "#ab63fa",
          "pattern": {
           "shape": ""
          }
         },
         "name": "jessie",
         "offsetgroup": "jessie",
         "orientation": "v",
         "showlegend": true,
         "textposition": "auto",
         "type": "bar",
         "x": [
          "jessie"
         ],
         "xaxis": "x",
         "y": [
          183
         ],
         "yaxis": "y"
        },
        {
         "alignmentgroup": "True",
         "hovertemplate": "trainer=%{x}<br>count=%{y}<extra></extra>",
         "legendgroup": "james",
         "marker": {
          "color": "#FFA15A",
          "pattern": {
           "shape": ""
          }
         },
         "name": "james",
         "offsetgroup": "james",
         "orientation": "v",
         "showlegend": true,
         "textposition": "auto",
         "type": "bar",
         "x": [
          "james"
         ],
         "xaxis": "x",
         "y": [
          171
         ],
         "yaxis": "y"
        },
        {
         "alignmentgroup": "True",
         "hovertemplate": "trainer=%{x}<br>count=%{y}<extra></extra>",
         "legendgroup": "ash",
         "marker": {
          "color": "#19d3f3",
          "pattern": {
           "shape": ""
          }
         },
         "name": "ash",
         "offsetgroup": "ash",
         "orientation": "v",
         "showlegend": true,
         "textposition": "auto",
         "type": "bar",
         "x": [
          "ash"
         ],
         "xaxis": "x",
         "y": [
          160
         ],
         "yaxis": "y"
        }
       ],
       "layout": {
        "barmode": "relative",
        "legend": {
         "title": {
          "text": "trainer"
         },
         "tracegroupgap": 0
        },
        "template": {
         "data": {
          "bar": [
           {
            "error_x": {
             "color": "#2a3f5f"
            },
            "error_y": {
             "color": "#2a3f5f"
            },
            "marker": {
             "line": {
              "color": "#E5ECF6",
              "width": 0.5
             },
             "pattern": {
              "fillmode": "overlay",
              "size": 10,
              "solidity": 0.2
             }
            },
            "type": "bar"
           }
          ],
          "barpolar": [
           {
            "marker": {
             "line": {
              "color": "#E5ECF6",
              "width": 0.5
             },
             "pattern": {
              "fillmode": "overlay",
              "size": 10,
              "solidity": 0.2
             }
            },
            "type": "barpolar"
           }
          ],
          "carpet": [
           {
            "aaxis": {
             "endlinecolor": "#2a3f5f",
             "gridcolor": "white",
             "linecolor": "white",
             "minorgridcolor": "white",
             "startlinecolor": "#2a3f5f"
            },
            "baxis": {
             "endlinecolor": "#2a3f5f",
             "gridcolor": "white",
             "linecolor": "white",
             "minorgridcolor": "white",
             "startlinecolor": "#2a3f5f"
            },
            "type": "carpet"
           }
          ],
          "choropleth": [
           {
            "colorbar": {
             "outlinewidth": 0,
             "ticks": ""
            },
            "type": "choropleth"
           }
          ],
          "contour": [
           {
            "colorbar": {
             "outlinewidth": 0,
             "ticks": ""
            },
            "colorscale": [
             [
              0,
              "#0d0887"
             ],
             [
              0.1111111111111111,
              "#46039f"
             ],
             [
              0.2222222222222222,
              "#7201a8"
             ],
             [
              0.3333333333333333,
              "#9c179e"
             ],
             [
              0.4444444444444444,
              "#bd3786"
             ],
             [
              0.5555555555555556,
              "#d8576b"
             ],
             [
              0.6666666666666666,
              "#ed7953"
             ],
             [
              0.7777777777777778,
              "#fb9f3a"
             ],
             [
              0.8888888888888888,
              "#fdca26"
             ],
             [
              1,
              "#f0f921"
             ]
            ],
            "type": "contour"
           }
          ],
          "contourcarpet": [
           {
            "colorbar": {
             "outlinewidth": 0,
             "ticks": ""
            },
            "type": "contourcarpet"
           }
          ],
          "heatmap": [
           {
            "colorbar": {
             "outlinewidth": 0,
             "ticks": ""
            },
            "colorscale": [
             [
              0,
              "#0d0887"
             ],
             [
              0.1111111111111111,
              "#46039f"
             ],
             [
              0.2222222222222222,
              "#7201a8"
             ],
             [
              0.3333333333333333,
              "#9c179e"
             ],
             [
              0.4444444444444444,
              "#bd3786"
             ],
             [
              0.5555555555555556,
              "#d8576b"
             ],
             [
              0.6666666666666666,
              "#ed7953"
             ],
             [
              0.7777777777777778,
              "#fb9f3a"
             ],
             [
              0.8888888888888888,
              "#fdca26"
             ],
             [
              1,
              "#f0f921"
             ]
            ],
            "type": "heatmap"
           }
          ],
          "heatmapgl": [
           {
            "colorbar": {
             "outlinewidth": 0,
             "ticks": ""
            },
            "colorscale": [
             [
              0,
              "#0d0887"
             ],
             [
              0.1111111111111111,
              "#46039f"
             ],
             [
              0.2222222222222222,
              "#7201a8"
             ],
             [
              0.3333333333333333,
              "#9c179e"
             ],
             [
              0.4444444444444444,
              "#bd3786"
             ],
             [
              0.5555555555555556,
              "#d8576b"
             ],
             [
              0.6666666666666666,
              "#ed7953"
             ],
             [
              0.7777777777777778,
              "#fb9f3a"
             ],
             [
              0.8888888888888888,
              "#fdca26"
             ],
             [
              1,
              "#f0f921"
             ]
            ],
            "type": "heatmapgl"
           }
          ],
          "histogram": [
           {
            "marker": {
             "pattern": {
              "fillmode": "overlay",
              "size": 10,
              "solidity": 0.2
             }
            },
            "type": "histogram"
           }
          ],
          "histogram2d": [
           {
            "colorbar": {
             "outlinewidth": 0,
             "ticks": ""
            },
            "colorscale": [
             [
              0,
              "#0d0887"
             ],
             [
              0.1111111111111111,
              "#46039f"
             ],
             [
              0.2222222222222222,
              "#7201a8"
             ],
             [
              0.3333333333333333,
              "#9c179e"
             ],
             [
              0.4444444444444444,
              "#bd3786"
             ],
             [
              0.5555555555555556,
              "#d8576b"
             ],
             [
              0.6666666666666666,
              "#ed7953"
             ],
             [
              0.7777777777777778,
              "#fb9f3a"
             ],
             [
              0.8888888888888888,
              "#fdca26"
             ],
             [
              1,
              "#f0f921"
             ]
            ],
            "type": "histogram2d"
           }
          ],
          "histogram2dcontour": [
           {
            "colorbar": {
             "outlinewidth": 0,
             "ticks": ""
            },
            "colorscale": [
             [
              0,
              "#0d0887"
             ],
             [
              0.1111111111111111,
              "#46039f"
             ],
             [
              0.2222222222222222,
              "#7201a8"
             ],
             [
              0.3333333333333333,
              "#9c179e"
             ],
             [
              0.4444444444444444,
              "#bd3786"
             ],
             [
              0.5555555555555556,
              "#d8576b"
             ],
             [
              0.6666666666666666,
              "#ed7953"
             ],
             [
              0.7777777777777778,
              "#fb9f3a"
             ],
             [
              0.8888888888888888,
              "#fdca26"
             ],
             [
              1,
              "#f0f921"
             ]
            ],
            "type": "histogram2dcontour"
           }
          ],
          "mesh3d": [
           {
            "colorbar": {
             "outlinewidth": 0,
             "ticks": ""
            },
            "type": "mesh3d"
           }
          ],
          "parcoords": [
           {
            "line": {
             "colorbar": {
              "outlinewidth": 0,
              "ticks": ""
             }
            },
            "type": "parcoords"
           }
          ],
          "pie": [
           {
            "automargin": true,
            "type": "pie"
           }
          ],
          "scatter": [
           {
            "fillpattern": {
             "fillmode": "overlay",
             "size": 10,
             "solidity": 0.2
            },
            "type": "scatter"
           }
          ],
          "scatter3d": [
           {
            "line": {
             "colorbar": {
              "outlinewidth": 0,
              "ticks": ""
             }
            },
            "marker": {
             "colorbar": {
              "outlinewidth": 0,
              "ticks": ""
             }
            },
            "type": "scatter3d"
           }
          ],
          "scattercarpet": [
           {
            "marker": {
             "colorbar": {
              "outlinewidth": 0,
              "ticks": ""
             }
            },
            "type": "scattercarpet"
           }
          ],
          "scattergeo": [
           {
            "marker": {
             "colorbar": {
              "outlinewidth": 0,
              "ticks": ""
             }
            },
            "type": "scattergeo"
           }
          ],
          "scattergl": [
           {
            "marker": {
             "colorbar": {
              "outlinewidth": 0,
              "ticks": ""
             }
            },
            "type": "scattergl"
           }
          ],
          "scattermapbox": [
           {
            "marker": {
             "colorbar": {
              "outlinewidth": 0,
              "ticks": ""
             }
            },
            "type": "scattermapbox"
           }
          ],
          "scatterpolar": [
           {
            "marker": {
             "colorbar": {
              "outlinewidth": 0,
              "ticks": ""
             }
            },
            "type": "scatterpolar"
           }
          ],
          "scatterpolargl": [
           {
            "marker": {
             "colorbar": {
              "outlinewidth": 0,
              "ticks": ""
             }
            },
            "type": "scatterpolargl"
           }
          ],
          "scatterternary": [
           {
            "marker": {
             "colorbar": {
              "outlinewidth": 0,
              "ticks": ""
             }
            },
            "type": "scatterternary"
           }
          ],
          "surface": [
           {
            "colorbar": {
             "outlinewidth": 0,
             "ticks": ""
            },
            "colorscale": [
             [
              0,
              "#0d0887"
             ],
             [
              0.1111111111111111,
              "#46039f"
             ],
             [
              0.2222222222222222,
              "#7201a8"
             ],
             [
              0.3333333333333333,
              "#9c179e"
             ],
             [
              0.4444444444444444,
              "#bd3786"
             ],
             [
              0.5555555555555556,
              "#d8576b"
             ],
             [
              0.6666666666666666,
              "#ed7953"
             ],
             [
              0.7777777777777778,
              "#fb9f3a"
             ],
             [
              0.8888888888888888,
              "#fdca26"
             ],
             [
              1,
              "#f0f921"
             ]
            ],
            "type": "surface"
           }
          ],
          "table": [
           {
            "cells": {
             "fill": {
              "color": "#EBF0F8"
             },
             "line": {
              "color": "white"
             }
            },
            "header": {
             "fill": {
              "color": "#C8D4E3"
             },
             "line": {
              "color": "white"
             }
            },
            "type": "table"
           }
          ]
         },
         "layout": {
          "annotationdefaults": {
           "arrowcolor": "#2a3f5f",
           "arrowhead": 0,
           "arrowwidth": 1
          },
          "autotypenumbers": "strict",
          "coloraxis": {
           "colorbar": {
            "outlinewidth": 0,
            "ticks": ""
           }
          },
          "colorscale": {
           "diverging": [
            [
             0,
             "#8e0152"
            ],
            [
             0.1,
             "#c51b7d"
            ],
            [
             0.2,
             "#de77ae"
            ],
            [
             0.3,
             "#f1b6da"
            ],
            [
             0.4,
             "#fde0ef"
            ],
            [
             0.5,
             "#f7f7f7"
            ],
            [
             0.6,
             "#e6f5d0"
            ],
            [
             0.7,
             "#b8e186"
            ],
            [
             0.8,
             "#7fbc41"
            ],
            [
             0.9,
             "#4d9221"
            ],
            [
             1,
             "#276419"
            ]
           ],
           "sequential": [
            [
             0,
             "#0d0887"
            ],
            [
             0.1111111111111111,
             "#46039f"
            ],
            [
             0.2222222222222222,
             "#7201a8"
            ],
            [
             0.3333333333333333,
             "#9c179e"
            ],
            [
             0.4444444444444444,
             "#bd3786"
            ],
            [
             0.5555555555555556,
             "#d8576b"
            ],
            [
             0.6666666666666666,
             "#ed7953"
            ],
            [
             0.7777777777777778,
             "#fb9f3a"
            ],
            [
             0.8888888888888888,
             "#fdca26"
            ],
            [
             1,
             "#f0f921"
            ]
           ],
           "sequentialminus": [
            [
             0,
             "#0d0887"
            ],
            [
             0.1111111111111111,
             "#46039f"
            ],
            [
             0.2222222222222222,
             "#7201a8"
            ],
            [
             0.3333333333333333,
             "#9c179e"
            ],
            [
             0.4444444444444444,
             "#bd3786"
            ],
            [
             0.5555555555555556,
             "#d8576b"
            ],
            [
             0.6666666666666666,
             "#ed7953"
            ],
            [
             0.7777777777777778,
             "#fb9f3a"
            ],
            [
             0.8888888888888888,
             "#fdca26"
            ],
            [
             1,
             "#f0f921"
            ]
           ]
          },
          "colorway": [
           "#636efa",
           "#EF553B",
           "#00cc96",
           "#ab63fa",
           "#FFA15A",
           "#19d3f3",
           "#FF6692",
           "#B6E880",
           "#FF97FF",
           "#FECB52"
          ],
          "font": {
           "color": "#2a3f5f"
          },
          "geo": {
           "bgcolor": "white",
           "lakecolor": "white",
           "landcolor": "#E5ECF6",
           "showlakes": true,
           "showland": true,
           "subunitcolor": "white"
          },
          "hoverlabel": {
           "align": "left"
          },
          "hovermode": "closest",
          "mapbox": {
           "style": "light"
          },
          "paper_bgcolor": "white",
          "plot_bgcolor": "#E5ECF6",
          "polar": {
           "angularaxis": {
            "gridcolor": "white",
            "linecolor": "white",
            "ticks": ""
           },
           "bgcolor": "#E5ECF6",
           "radialaxis": {
            "gridcolor": "white",
            "linecolor": "white",
            "ticks": ""
           }
          },
          "scene": {
           "xaxis": {
            "backgroundcolor": "#E5ECF6",
            "gridcolor": "white",
            "gridwidth": 2,
            "linecolor": "white",
            "showbackground": true,
            "ticks": "",
            "zerolinecolor": "white"
           },
           "yaxis": {
            "backgroundcolor": "#E5ECF6",
            "gridcolor": "white",
            "gridwidth": 2,
            "linecolor": "white",
            "showbackground": true,
            "ticks": "",
            "zerolinecolor": "white"
           },
           "zaxis": {
            "backgroundcolor": "#E5ECF6",
            "gridcolor": "white",
            "gridwidth": 2,
            "linecolor": "white",
            "showbackground": true,
            "ticks": "",
            "zerolinecolor": "white"
           }
          },
          "shapedefaults": {
           "line": {
            "color": "#2a3f5f"
           }
          },
          "ternary": {
           "aaxis": {
            "gridcolor": "white",
            "linecolor": "white",
            "ticks": ""
           },
           "baxis": {
            "gridcolor": "white",
            "linecolor": "white",
            "ticks": ""
           },
           "bgcolor": "#E5ECF6",
           "caxis": {
            "gridcolor": "white",
            "linecolor": "white",
            "ticks": ""
           }
          },
          "title": {
           "x": 0.05
          },
          "xaxis": {
           "automargin": true,
           "gridcolor": "white",
           "linecolor": "white",
           "ticks": "",
           "title": {
            "standoff": 15
           },
           "zerolinecolor": "white",
           "zerolinewidth": 2
          },
          "yaxis": {
           "automargin": true,
           "gridcolor": "white",
           "linecolor": "white",
           "ticks": "",
           "title": {
            "standoff": 15
           },
           "zerolinecolor": "white",
           "zerolinewidth": 2
          }
         }
        },
        "title": {
         "text": "Number of Pokémon caught in the last hour"
        },
        "xaxis": {
         "anchor": "y",
         "categoryarray": [
          "brock",
          "gary",
          "misty",
          "jessie",
          "james",
          "ash"
         ],
         "categoryorder": "array",
         "domain": [
          0,
          1
         ],
         "title": {
          "text": "trainer"
         }
        },
        "yaxis": {
         "anchor": "x",
         "domain": [
          0,
          1
         ],
         "title": {
          "text": "count"
         }
        }
       }
      }
     },
     "metadata": {},
     "output_type": "display_data"
    }
   ],
   "source": [
    "# Lets start with a simple query to understand our schema.\n",
    "query = '''SELECT count(\"name\") as count, trainer FROM pokemon GROUP BY trainer'''\n",
    "\n",
    "ticket_bytes = json.dumps({'sql':query, 'table':'pokemon'})\n",
    "ticket = Ticket(ticket_bytes)\n",
    "reader = client.do_get(ticket)\n",
    "table = reader.read_all()\n",
    "print(table)\n",
    "df = table.to_pandas()\n",
    "\n",
    "fig1 = px.bar(df, x=\"trainer\", y=\"count\",color='trainer' ,title='Number of Pokémon caught in the last hour')\n",
    "fig1.show()"
   ]
  },
  {
   "cell_type": "code",
   "execution_count": 45,
   "metadata": {},
   "outputs": [
    {
     "data": {
      "application/vnd.plotly.v1+json": {
       "config": {
        "plotlyServerURL": "https://plot.ly"
       },
       "data": [
        {
         "alignmentgroup": "True",
         "hovertemplate": "type1=Rock<br>trainer=%{x}<br>count=%{y}<extra></extra>",
         "legendgroup": "Rock",
         "marker": {
          "color": "#636efa",
          "pattern": {
           "shape": ""
          }
         },
         "name": "Rock",
         "offsetgroup": "Rock",
         "orientation": "v",
         "showlegend": true,
         "textposition": "auto",
         "type": "bar",
         "x": [
          "brock",
          "gary",
          "misty",
          "james",
          "ash",
          "jessie"
         ],
         "xaxis": "x",
         "y": [
          8,
          6,
          6,
          10,
          11,
          16
         ],
         "yaxis": "y"
        },
        {
         "alignmentgroup": "True",
         "hovertemplate": "type1=Grass<br>trainer=%{x}<br>count=%{y}<extra></extra>",
         "legendgroup": "Grass",
         "marker": {
          "color": "#EF553B",
          "pattern": {
           "shape": ""
          }
         },
         "name": "Grass",
         "offsetgroup": "Grass",
         "orientation": "v",
         "showlegend": true,
         "textposition": "auto",
         "type": "bar",
         "x": [
          "gary",
          "brock",
          "ash",
          "jessie",
          "misty",
          "james"
         ],
         "xaxis": "x",
         "y": [
          9,
          16,
          13,
          19,
          21,
          11
         ],
         "yaxis": "y"
        },
        {
         "alignmentgroup": "True",
         "hovertemplate": "type1=Normal<br>trainer=%{x}<br>count=%{y}<extra></extra>",
         "legendgroup": "Normal",
         "marker": {
          "color": "#00cc96",
          "pattern": {
           "shape": ""
          }
         },
         "name": "Normal",
         "offsetgroup": "Normal",
         "orientation": "v",
         "showlegend": true,
         "textposition": "auto",
         "type": "bar",
         "x": [
          "james",
          "brock",
          "misty",
          "jessie",
          "ash",
          "gary"
         ],
         "xaxis": "x",
         "y": [
          27,
          19,
          22,
          20,
          28,
          25
         ],
         "yaxis": "y"
        },
        {
         "alignmentgroup": "True",
         "hovertemplate": "type1=Psychic<br>trainer=%{x}<br>count=%{y}<extra></extra>",
         "legendgroup": "Psychic",
         "marker": {
          "color": "#ab63fa",
          "pattern": {
           "shape": ""
          }
         },
         "name": "Psychic",
         "offsetgroup": "Psychic",
         "orientation": "v",
         "showlegend": true,
         "textposition": "auto",
         "type": "bar",
         "x": [
          "james",
          "misty",
          "brock",
          "jessie",
          "ash",
          "gary"
         ],
         "xaxis": "x",
         "y": [
          10,
          6,
          5,
          7,
          7,
          10
         ],
         "yaxis": "y"
        },
        {
         "alignmentgroup": "True",
         "hovertemplate": "type1=Fighting<br>trainer=%{x}<br>count=%{y}<extra></extra>",
         "legendgroup": "Fighting",
         "marker": {
          "color": "#FFA15A",
          "pattern": {
           "shape": ""
          }
         },
         "name": "Fighting",
         "offsetgroup": "Fighting",
         "orientation": "v",
         "showlegend": true,
         "textposition": "auto",
         "type": "bar",
         "x": [
          "ash",
          "misty",
          "jessie",
          "brock",
          "james",
          "gary"
         ],
         "xaxis": "x",
         "y": [
          4,
          5,
          7,
          11,
          8,
          6
         ],
         "yaxis": "y"
        },
        {
         "alignmentgroup": "True",
         "hovertemplate": "type1=Poison<br>trainer=%{x}<br>count=%{y}<extra></extra>",
         "legendgroup": "Poison",
         "marker": {
          "color": "#19d3f3",
          "pattern": {
           "shape": ""
          }
         },
         "name": "Poison",
         "offsetgroup": "Poison",
         "orientation": "v",
         "showlegend": true,
         "textposition": "auto",
         "type": "bar",
         "x": [
          "gary",
          "jessie",
          "brock",
          "ash",
          "misty",
          "james"
         ],
         "xaxis": "x",
         "y": [
          10,
          19,
          11,
          17,
          20,
          17
         ],
         "yaxis": "y"
        },
        {
         "alignmentgroup": "True",
         "hovertemplate": "type1=Dragon<br>trainer=%{x}<br>count=%{y}<extra></extra>",
         "legendgroup": "Dragon",
         "marker": {
          "color": "#FF6692",
          "pattern": {
           "shape": ""
          }
         },
         "name": "Dragon",
         "offsetgroup": "Dragon",
         "orientation": "v",
         "showlegend": true,
         "textposition": "auto",
         "type": "bar",
         "x": [
          "ash",
          "jessie",
          "brock",
          "james",
          "misty",
          "gary"
         ],
         "xaxis": "x",
         "y": [
          5,
          6,
          2,
          3,
          1,
          2
         ],
         "yaxis": "y"
        },
        {
         "alignmentgroup": "True",
         "hovertemplate": "type1=Fairy<br>trainer=%{x}<br>count=%{y}<extra></extra>",
         "legendgroup": "Fairy",
         "marker": {
          "color": "#B6E880",
          "pattern": {
           "shape": ""
          }
         },
         "name": "Fairy",
         "offsetgroup": "Fairy",
         "orientation": "v",
         "showlegend": true,
         "textposition": "auto",
         "type": "bar",
         "x": [
          "brock",
          "gary",
          "james",
          "misty",
          "ash"
         ],
         "xaxis": "x",
         "y": [
          1,
          1,
          4,
          4,
          4
         ],
         "yaxis": "y"
        },
        {
         "alignmentgroup": "True",
         "hovertemplate": "type1=Ghost<br>trainer=%{x}<br>count=%{y}<extra></extra>",
         "legendgroup": "Ghost",
         "marker": {
          "color": "#FF97FF",
          "pattern": {
           "shape": ""
          }
         },
         "name": "Ghost",
         "offsetgroup": "Ghost",
         "orientation": "v",
         "showlegend": true,
         "textposition": "auto",
         "type": "bar",
         "x": [
          "jessie",
          "james",
          "gary",
          "misty",
          "brock",
          "ash"
         ],
         "xaxis": "x",
         "y": [
          4,
          3,
          5,
          6,
          4,
          2
         ],
         "yaxis": "y"
        },
        {
         "alignmentgroup": "True",
         "hovertemplate": "type1=Ground<br>trainer=%{x}<br>count=%{y}<extra></extra>",
         "legendgroup": "Ground",
         "marker": {
          "color": "#FECB52",
          "pattern": {
           "shape": ""
          }
         },
         "name": "Ground",
         "offsetgroup": "Ground",
         "orientation": "v",
         "showlegend": true,
         "textposition": "auto",
         "type": "bar",
         "x": [
          "james",
          "ash",
          "gary",
          "brock",
          "jessie",
          "misty"
         ],
         "xaxis": "x",
         "y": [
          9,
          6,
          6,
          8,
          12,
          6
         ],
         "yaxis": "y"
        },
        {
         "alignmentgroup": "True",
         "hovertemplate": "type1=Bug<br>trainer=%{x}<br>count=%{y}<extra></extra>",
         "legendgroup": "Bug",
         "marker": {
          "color": "#636efa",
          "pattern": {
           "shape": ""
          }
         },
         "name": "Bug",
         "offsetgroup": "Bug",
         "orientation": "v",
         "showlegend": true,
         "textposition": "auto",
         "type": "bar",
         "x": [
          "brock",
          "misty",
          "jessie",
          "james",
          "gary",
          "ash"
         ],
         "xaxis": "x",
         "y": [
          18,
          22,
          13,
          15,
          15,
          9
         ],
         "yaxis": "y"
        },
        {
         "alignmentgroup": "True",
         "hovertemplate": "type1=Water<br>trainer=%{x}<br>count=%{y}<extra></extra>",
         "legendgroup": "Water",
         "marker": {
          "color": "#EF553B",
          "pattern": {
           "shape": ""
          }
         },
         "name": "Water",
         "offsetgroup": "Water",
         "orientation": "v",
         "showlegend": true,
         "textposition": "auto",
         "type": "bar",
         "x": [
          "brock",
          "jessie",
          "misty",
          "james",
          "gary",
          "ash"
         ],
         "xaxis": "x",
         "y": [
          33,
          34,
          33,
          28,
          23,
          34
         ],
         "yaxis": "y"
        },
        {
         "alignmentgroup": "True",
         "hovertemplate": "type1=Fire<br>trainer=%{x}<br>count=%{y}<extra></extra>",
         "legendgroup": "Fire",
         "marker": {
          "color": "#00cc96",
          "pattern": {
           "shape": ""
          }
         },
         "name": "Fire",
         "offsetgroup": "Fire",
         "orientation": "v",
         "showlegend": true,
         "textposition": "auto",
         "type": "bar",
         "x": [
          "brock",
          "gary",
          "misty",
          "james",
          "jessie",
          "ash"
         ],
         "xaxis": "x",
         "y": [
          15,
          10,
          19,
          10,
          11,
          8
         ],
         "yaxis": "y"
        },
        {
         "alignmentgroup": "True",
         "hovertemplate": "type1=Ice<br>trainer=%{x}<br>count=%{y}<extra></extra>",
         "legendgroup": "Ice",
         "marker": {
          "color": "#ab63fa",
          "pattern": {
           "shape": ""
          }
         },
         "name": "Ice",
         "offsetgroup": "Ice",
         "orientation": "v",
         "showlegend": true,
         "textposition": "auto",
         "type": "bar",
         "x": [
          "brock",
          "gary",
          "james",
          "misty",
          "jessie",
          "ash"
         ],
         "xaxis": "x",
         "y": [
          2,
          2,
          5,
          2,
          5,
          1
         ],
         "yaxis": "y"
        },
        {
         "alignmentgroup": "True",
         "hovertemplate": "type1=Electric<br>trainer=%{x}<br>count=%{y}<extra></extra>",
         "legendgroup": "Electric",
         "marker": {
          "color": "#FFA15A",
          "pattern": {
           "shape": ""
          }
         },
         "name": "Electric",
         "offsetgroup": "Electric",
         "orientation": "v",
         "showlegend": true,
         "textposition": "auto",
         "type": "bar",
         "x": [
          "gary",
          "james",
          "misty",
          "jessie",
          "ash",
          "brock"
         ],
         "xaxis": "x",
         "y": [
          9,
          11,
          9,
          10,
          11,
          12
         ],
         "yaxis": "y"
        }
       ],
       "layout": {
        "barmode": "group",
        "legend": {
         "title": {
          "text": "type1"
         },
         "tracegroupgap": 0
        },
        "template": {
         "data": {
          "bar": [
           {
            "error_x": {
             "color": "#2a3f5f"
            },
            "error_y": {
             "color": "#2a3f5f"
            },
            "marker": {
             "line": {
              "color": "#E5ECF6",
              "width": 0.5
             },
             "pattern": {
              "fillmode": "overlay",
              "size": 10,
              "solidity": 0.2
             }
            },
            "type": "bar"
           }
          ],
          "barpolar": [
           {
            "marker": {
             "line": {
              "color": "#E5ECF6",
              "width": 0.5
             },
             "pattern": {
              "fillmode": "overlay",
              "size": 10,
              "solidity": 0.2
             }
            },
            "type": "barpolar"
           }
          ],
          "carpet": [
           {
            "aaxis": {
             "endlinecolor": "#2a3f5f",
             "gridcolor": "white",
             "linecolor": "white",
             "minorgridcolor": "white",
             "startlinecolor": "#2a3f5f"
            },
            "baxis": {
             "endlinecolor": "#2a3f5f",
             "gridcolor": "white",
             "linecolor": "white",
             "minorgridcolor": "white",
             "startlinecolor": "#2a3f5f"
            },
            "type": "carpet"
           }
          ],
          "choropleth": [
           {
            "colorbar": {
             "outlinewidth": 0,
             "ticks": ""
            },
            "type": "choropleth"
           }
          ],
          "contour": [
           {
            "colorbar": {
             "outlinewidth": 0,
             "ticks": ""
            },
            "colorscale": [
             [
              0,
              "#0d0887"
             ],
             [
              0.1111111111111111,
              "#46039f"
             ],
             [
              0.2222222222222222,
              "#7201a8"
             ],
             [
              0.3333333333333333,
              "#9c179e"
             ],
             [
              0.4444444444444444,
              "#bd3786"
             ],
             [
              0.5555555555555556,
              "#d8576b"
             ],
             [
              0.6666666666666666,
              "#ed7953"
             ],
             [
              0.7777777777777778,
              "#fb9f3a"
             ],
             [
              0.8888888888888888,
              "#fdca26"
             ],
             [
              1,
              "#f0f921"
             ]
            ],
            "type": "contour"
           }
          ],
          "contourcarpet": [
           {
            "colorbar": {
             "outlinewidth": 0,
             "ticks": ""
            },
            "type": "contourcarpet"
           }
          ],
          "heatmap": [
           {
            "colorbar": {
             "outlinewidth": 0,
             "ticks": ""
            },
            "colorscale": [
             [
              0,
              "#0d0887"
             ],
             [
              0.1111111111111111,
              "#46039f"
             ],
             [
              0.2222222222222222,
              "#7201a8"
             ],
             [
              0.3333333333333333,
              "#9c179e"
             ],
             [
              0.4444444444444444,
              "#bd3786"
             ],
             [
              0.5555555555555556,
              "#d8576b"
             ],
             [
              0.6666666666666666,
              "#ed7953"
             ],
             [
              0.7777777777777778,
              "#fb9f3a"
             ],
             [
              0.8888888888888888,
              "#fdca26"
             ],
             [
              1,
              "#f0f921"
             ]
            ],
            "type": "heatmap"
           }
          ],
          "heatmapgl": [
           {
            "colorbar": {
             "outlinewidth": 0,
             "ticks": ""
            },
            "colorscale": [
             [
              0,
              "#0d0887"
             ],
             [
              0.1111111111111111,
              "#46039f"
             ],
             [
              0.2222222222222222,
              "#7201a8"
             ],
             [
              0.3333333333333333,
              "#9c179e"
             ],
             [
              0.4444444444444444,
              "#bd3786"
             ],
             [
              0.5555555555555556,
              "#d8576b"
             ],
             [
              0.6666666666666666,
              "#ed7953"
             ],
             [
              0.7777777777777778,
              "#fb9f3a"
             ],
             [
              0.8888888888888888,
              "#fdca26"
             ],
             [
              1,
              "#f0f921"
             ]
            ],
            "type": "heatmapgl"
           }
          ],
          "histogram": [
           {
            "marker": {
             "pattern": {
              "fillmode": "overlay",
              "size": 10,
              "solidity": 0.2
             }
            },
            "type": "histogram"
           }
          ],
          "histogram2d": [
           {
            "colorbar": {
             "outlinewidth": 0,
             "ticks": ""
            },
            "colorscale": [
             [
              0,
              "#0d0887"
             ],
             [
              0.1111111111111111,
              "#46039f"
             ],
             [
              0.2222222222222222,
              "#7201a8"
             ],
             [
              0.3333333333333333,
              "#9c179e"
             ],
             [
              0.4444444444444444,
              "#bd3786"
             ],
             [
              0.5555555555555556,
              "#d8576b"
             ],
             [
              0.6666666666666666,
              "#ed7953"
             ],
             [
              0.7777777777777778,
              "#fb9f3a"
             ],
             [
              0.8888888888888888,
              "#fdca26"
             ],
             [
              1,
              "#f0f921"
             ]
            ],
            "type": "histogram2d"
           }
          ],
          "histogram2dcontour": [
           {
            "colorbar": {
             "outlinewidth": 0,
             "ticks": ""
            },
            "colorscale": [
             [
              0,
              "#0d0887"
             ],
             [
              0.1111111111111111,
              "#46039f"
             ],
             [
              0.2222222222222222,
              "#7201a8"
             ],
             [
              0.3333333333333333,
              "#9c179e"
             ],
             [
              0.4444444444444444,
              "#bd3786"
             ],
             [
              0.5555555555555556,
              "#d8576b"
             ],
             [
              0.6666666666666666,
              "#ed7953"
             ],
             [
              0.7777777777777778,
              "#fb9f3a"
             ],
             [
              0.8888888888888888,
              "#fdca26"
             ],
             [
              1,
              "#f0f921"
             ]
            ],
            "type": "histogram2dcontour"
           }
          ],
          "mesh3d": [
           {
            "colorbar": {
             "outlinewidth": 0,
             "ticks": ""
            },
            "type": "mesh3d"
           }
          ],
          "parcoords": [
           {
            "line": {
             "colorbar": {
              "outlinewidth": 0,
              "ticks": ""
             }
            },
            "type": "parcoords"
           }
          ],
          "pie": [
           {
            "automargin": true,
            "type": "pie"
           }
          ],
          "scatter": [
           {
            "fillpattern": {
             "fillmode": "overlay",
             "size": 10,
             "solidity": 0.2
            },
            "type": "scatter"
           }
          ],
          "scatter3d": [
           {
            "line": {
             "colorbar": {
              "outlinewidth": 0,
              "ticks": ""
             }
            },
            "marker": {
             "colorbar": {
              "outlinewidth": 0,
              "ticks": ""
             }
            },
            "type": "scatter3d"
           }
          ],
          "scattercarpet": [
           {
            "marker": {
             "colorbar": {
              "outlinewidth": 0,
              "ticks": ""
             }
            },
            "type": "scattercarpet"
           }
          ],
          "scattergeo": [
           {
            "marker": {
             "colorbar": {
              "outlinewidth": 0,
              "ticks": ""
             }
            },
            "type": "scattergeo"
           }
          ],
          "scattergl": [
           {
            "marker": {
             "colorbar": {
              "outlinewidth": 0,
              "ticks": ""
             }
            },
            "type": "scattergl"
           }
          ],
          "scattermapbox": [
           {
            "marker": {
             "colorbar": {
              "outlinewidth": 0,
              "ticks": ""
             }
            },
            "type": "scattermapbox"
           }
          ],
          "scatterpolar": [
           {
            "marker": {
             "colorbar": {
              "outlinewidth": 0,
              "ticks": ""
             }
            },
            "type": "scatterpolar"
           }
          ],
          "scatterpolargl": [
           {
            "marker": {
             "colorbar": {
              "outlinewidth": 0,
              "ticks": ""
             }
            },
            "type": "scatterpolargl"
           }
          ],
          "scatterternary": [
           {
            "marker": {
             "colorbar": {
              "outlinewidth": 0,
              "ticks": ""
             }
            },
            "type": "scatterternary"
           }
          ],
          "surface": [
           {
            "colorbar": {
             "outlinewidth": 0,
             "ticks": ""
            },
            "colorscale": [
             [
              0,
              "#0d0887"
             ],
             [
              0.1111111111111111,
              "#46039f"
             ],
             [
              0.2222222222222222,
              "#7201a8"
             ],
             [
              0.3333333333333333,
              "#9c179e"
             ],
             [
              0.4444444444444444,
              "#bd3786"
             ],
             [
              0.5555555555555556,
              "#d8576b"
             ],
             [
              0.6666666666666666,
              "#ed7953"
             ],
             [
              0.7777777777777778,
              "#fb9f3a"
             ],
             [
              0.8888888888888888,
              "#fdca26"
             ],
             [
              1,
              "#f0f921"
             ]
            ],
            "type": "surface"
           }
          ],
          "table": [
           {
            "cells": {
             "fill": {
              "color": "#EBF0F8"
             },
             "line": {
              "color": "white"
             }
            },
            "header": {
             "fill": {
              "color": "#C8D4E3"
             },
             "line": {
              "color": "white"
             }
            },
            "type": "table"
           }
          ]
         },
         "layout": {
          "annotationdefaults": {
           "arrowcolor": "#2a3f5f",
           "arrowhead": 0,
           "arrowwidth": 1
          },
          "autotypenumbers": "strict",
          "coloraxis": {
           "colorbar": {
            "outlinewidth": 0,
            "ticks": ""
           }
          },
          "colorscale": {
           "diverging": [
            [
             0,
             "#8e0152"
            ],
            [
             0.1,
             "#c51b7d"
            ],
            [
             0.2,
             "#de77ae"
            ],
            [
             0.3,
             "#f1b6da"
            ],
            [
             0.4,
             "#fde0ef"
            ],
            [
             0.5,
             "#f7f7f7"
            ],
            [
             0.6,
             "#e6f5d0"
            ],
            [
             0.7,
             "#b8e186"
            ],
            [
             0.8,
             "#7fbc41"
            ],
            [
             0.9,
             "#4d9221"
            ],
            [
             1,
             "#276419"
            ]
           ],
           "sequential": [
            [
             0,
             "#0d0887"
            ],
            [
             0.1111111111111111,
             "#46039f"
            ],
            [
             0.2222222222222222,
             "#7201a8"
            ],
            [
             0.3333333333333333,
             "#9c179e"
            ],
            [
             0.4444444444444444,
             "#bd3786"
            ],
            [
             0.5555555555555556,
             "#d8576b"
            ],
            [
             0.6666666666666666,
             "#ed7953"
            ],
            [
             0.7777777777777778,
             "#fb9f3a"
            ],
            [
             0.8888888888888888,
             "#fdca26"
            ],
            [
             1,
             "#f0f921"
            ]
           ],
           "sequentialminus": [
            [
             0,
             "#0d0887"
            ],
            [
             0.1111111111111111,
             "#46039f"
            ],
            [
             0.2222222222222222,
             "#7201a8"
            ],
            [
             0.3333333333333333,
             "#9c179e"
            ],
            [
             0.4444444444444444,
             "#bd3786"
            ],
            [
             0.5555555555555556,
             "#d8576b"
            ],
            [
             0.6666666666666666,
             "#ed7953"
            ],
            [
             0.7777777777777778,
             "#fb9f3a"
            ],
            [
             0.8888888888888888,
             "#fdca26"
            ],
            [
             1,
             "#f0f921"
            ]
           ]
          },
          "colorway": [
           "#636efa",
           "#EF553B",
           "#00cc96",
           "#ab63fa",
           "#FFA15A",
           "#19d3f3",
           "#FF6692",
           "#B6E880",
           "#FF97FF",
           "#FECB52"
          ],
          "font": {
           "color": "#2a3f5f"
          },
          "geo": {
           "bgcolor": "white",
           "lakecolor": "white",
           "landcolor": "#E5ECF6",
           "showlakes": true,
           "showland": true,
           "subunitcolor": "white"
          },
          "hoverlabel": {
           "align": "left"
          },
          "hovermode": "closest",
          "mapbox": {
           "style": "light"
          },
          "paper_bgcolor": "white",
          "plot_bgcolor": "#E5ECF6",
          "polar": {
           "angularaxis": {
            "gridcolor": "white",
            "linecolor": "white",
            "ticks": ""
           },
           "bgcolor": "#E5ECF6",
           "radialaxis": {
            "gridcolor": "white",
            "linecolor": "white",
            "ticks": ""
           }
          },
          "scene": {
           "xaxis": {
            "backgroundcolor": "#E5ECF6",
            "gridcolor": "white",
            "gridwidth": 2,
            "linecolor": "white",
            "showbackground": true,
            "ticks": "",
            "zerolinecolor": "white"
           },
           "yaxis": {
            "backgroundcolor": "#E5ECF6",
            "gridcolor": "white",
            "gridwidth": 2,
            "linecolor": "white",
            "showbackground": true,
            "ticks": "",
            "zerolinecolor": "white"
           },
           "zaxis": {
            "backgroundcolor": "#E5ECF6",
            "gridcolor": "white",
            "gridwidth": 2,
            "linecolor": "white",
            "showbackground": true,
            "ticks": "",
            "zerolinecolor": "white"
           }
          },
          "shapedefaults": {
           "line": {
            "color": "#2a3f5f"
           }
          },
          "ternary": {
           "aaxis": {
            "gridcolor": "white",
            "linecolor": "white",
            "ticks": ""
           },
           "baxis": {
            "gridcolor": "white",
            "linecolor": "white",
            "ticks": ""
           },
           "bgcolor": "#E5ECF6",
           "caxis": {
            "gridcolor": "white",
            "linecolor": "white",
            "ticks": ""
           }
          },
          "title": {
           "x": 0.05
          },
          "xaxis": {
           "automargin": true,
           "gridcolor": "white",
           "linecolor": "white",
           "ticks": "",
           "title": {
            "standoff": 15
           },
           "zerolinecolor": "white",
           "zerolinewidth": 2
          },
          "yaxis": {
           "automargin": true,
           "gridcolor": "white",
           "linecolor": "white",
           "ticks": "",
           "title": {
            "standoff": 15
           },
           "zerolinecolor": "white",
           "zerolinewidth": 2
          }
         }
        },
        "title": {
         "text": "Number of Pokémon caught in the last hour grouped by type"
        },
        "xaxis": {
         "anchor": "y",
         "domain": [
          0,
          1
         ],
         "title": {
          "text": "trainer"
         }
        },
        "yaxis": {
         "anchor": "x",
         "domain": [
          0,
          1
         ],
         "title": {
          "text": "count"
         }
        }
       }
      }
     },
     "metadata": {},
     "output_type": "display_data"
    }
   ],
   "source": [
    "# Lets start with a simple query to understand our schema.\n",
    "query = '''SELECT count(\"name\") as count, trainer, \"type1\" FROM pokemon GROUP BY \"trainer\",\"type1\"'''\n",
    "\n",
    "ticket_bytes = json.dumps({'sql':query, 'table':'pokemon'})\n",
    "ticket = Ticket(ticket_bytes)\n",
    "reader = client.do_get(ticket)\n",
    "df = reader.read_all().to_pandas()\n",
    "\n",
    "\n",
    "# We can use the query method to run a query against the database.\n",
    "# Under the hood this creates a flight ticket and uses the FlightClient to run the query. \n",
    "# For this example we are using the pandas mode, which will return a pandas DataFrame.\n",
    "# Language also allows us to specify the query language, in this case we are using SQL.\n",
    "\n",
    "fig2 = px.bar(df, x=\"trainer\", y=\"count\", color='type1', barmode= 'group', title='Number of Pokémon caught grouped by type')\n",
    "fig2.show()"
   ]
  },
  {
   "cell_type": "markdown",
   "metadata": {},
   "source": [
    "### Working with Arrow tables\n",
    "So within the last section we discussed converting returned queries directly to Pandas Dataframes. However, we can also utilise their raw format, Arrow tables. Arrow tables are a columnar format that is more efficient for working with data.\n",
    "\n",
    "Lets first start by adding more data with a random timestamp between now and 1 hour ago"
   ]
  },
  {
   "cell_type": "code",
   "execution_count": 46,
   "metadata": {},
   "outputs": [
    {
     "data": {
      "text/html": [
       "<div>\n",
       "<style scoped>\n",
       "    .dataframe tbody tr th:only-of-type {\n",
       "        vertical-align: middle;\n",
       "    }\n",
       "\n",
       "    .dataframe tbody tr th {\n",
       "        vertical-align: top;\n",
       "    }\n",
       "\n",
       "    .dataframe thead th {\n",
       "        text-align: right;\n",
       "    }\n",
       "</style>\n",
       "<table border=\"1\" class=\"dataframe\">\n",
       "  <thead>\n",
       "    <tr style=\"text-align: right;\">\n",
       "      <th></th>\n",
       "      <th>trainer</th>\n",
       "      <th>id</th>\n",
       "      <th>num</th>\n",
       "      <th>name</th>\n",
       "      <th>level</th>\n",
       "      <th>attack</th>\n",
       "      <th>defense</th>\n",
       "      <th>hp</th>\n",
       "      <th>speed</th>\n",
       "      <th>type1</th>\n",
       "      <th>type2</th>\n",
       "    </tr>\n",
       "    <tr>\n",
       "      <th>timestamp</th>\n",
       "      <th></th>\n",
       "      <th></th>\n",
       "      <th></th>\n",
       "      <th></th>\n",
       "      <th></th>\n",
       "      <th></th>\n",
       "      <th></th>\n",
       "      <th></th>\n",
       "      <th></th>\n",
       "      <th></th>\n",
       "      <th></th>\n",
       "    </tr>\n",
       "  </thead>\n",
       "  <tbody>\n",
       "    <tr>\n",
       "      <th>2023-11-22 07:37:22.130822+00:00</th>\n",
       "      <td>james</td>\n",
       "      <td>0134</td>\n",
       "      <td>3</td>\n",
       "      <td>Vaporeon</td>\n",
       "      <td>14</td>\n",
       "      <td>65</td>\n",
       "      <td>60</td>\n",
       "      <td>130</td>\n",
       "      <td>65</td>\n",
       "      <td>Water</td>\n",
       "      <td>NaN</td>\n",
       "    </tr>\n",
       "    <tr>\n",
       "      <th>2023-11-22 07:32:22.130822+00:00</th>\n",
       "      <td>brock</td>\n",
       "      <td>0094</td>\n",
       "      <td>1</td>\n",
       "      <td>GengarMega Gengar</td>\n",
       "      <td>8</td>\n",
       "      <td>65</td>\n",
       "      <td>80</td>\n",
       "      <td>60</td>\n",
       "      <td>130</td>\n",
       "      <td>Ghost</td>\n",
       "      <td>Poison</td>\n",
       "    </tr>\n",
       "    <tr>\n",
       "      <th>2023-11-22 07:59:22.130822+00:00</th>\n",
       "      <td>james</td>\n",
       "      <td>0069</td>\n",
       "      <td>2</td>\n",
       "      <td>Bellsprout</td>\n",
       "      <td>18</td>\n",
       "      <td>75</td>\n",
       "      <td>35</td>\n",
       "      <td>50</td>\n",
       "      <td>40</td>\n",
       "      <td>Grass</td>\n",
       "      <td>Poison</td>\n",
       "    </tr>\n",
       "    <tr>\n",
       "      <th>2023-11-22 07:01:22.130822+00:00</th>\n",
       "      <td>brock</td>\n",
       "      <td>0136</td>\n",
       "      <td>3</td>\n",
       "      <td>Flareon</td>\n",
       "      <td>7</td>\n",
       "      <td>130</td>\n",
       "      <td>60</td>\n",
       "      <td>65</td>\n",
       "      <td>65</td>\n",
       "      <td>Fire</td>\n",
       "      <td>NaN</td>\n",
       "    </tr>\n",
       "    <tr>\n",
       "      <th>2023-11-22 07:56:22.130822+00:00</th>\n",
       "      <td>jessie</td>\n",
       "      <td>0089</td>\n",
       "      <td>3</td>\n",
       "      <td>Muk</td>\n",
       "      <td>18</td>\n",
       "      <td>105</td>\n",
       "      <td>75</td>\n",
       "      <td>105</td>\n",
       "      <td>50</td>\n",
       "      <td>Poison</td>\n",
       "      <td>NaN</td>\n",
       "    </tr>\n",
       "    <tr>\n",
       "      <th>...</th>\n",
       "      <td>...</td>\n",
       "      <td>...</td>\n",
       "      <td>...</td>\n",
       "      <td>...</td>\n",
       "      <td>...</td>\n",
       "      <td>...</td>\n",
       "      <td>...</td>\n",
       "      <td>...</td>\n",
       "      <td>...</td>\n",
       "      <td>...</td>\n",
       "      <td>...</td>\n",
       "    </tr>\n",
       "    <tr>\n",
       "      <th>2023-11-22 07:04:22.130822+00:00</th>\n",
       "      <td>ash</td>\n",
       "      <td>0077</td>\n",
       "      <td>97</td>\n",
       "      <td>Ponyta</td>\n",
       "      <td>17</td>\n",
       "      <td>85</td>\n",
       "      <td>55</td>\n",
       "      <td>50</td>\n",
       "      <td>90</td>\n",
       "      <td>Fire</td>\n",
       "      <td>NaN</td>\n",
       "    </tr>\n",
       "    <tr>\n",
       "      <th>2023-11-22 07:39:22.130822+00:00</th>\n",
       "      <td>misty</td>\n",
       "      <td>0053</td>\n",
       "      <td>121</td>\n",
       "      <td>Persian</td>\n",
       "      <td>7</td>\n",
       "      <td>70</td>\n",
       "      <td>60</td>\n",
       "      <td>65</td>\n",
       "      <td>115</td>\n",
       "      <td>Normal</td>\n",
       "      <td>NaN</td>\n",
       "    </tr>\n",
       "    <tr>\n",
       "      <th>2023-11-22 07:09:22.130822+00:00</th>\n",
       "      <td>james</td>\n",
       "      <td>0109</td>\n",
       "      <td>107</td>\n",
       "      <td>Koffing</td>\n",
       "      <td>7</td>\n",
       "      <td>65</td>\n",
       "      <td>95</td>\n",
       "      <td>40</td>\n",
       "      <td>35</td>\n",
       "      <td>Poison</td>\n",
       "      <td>NaN</td>\n",
       "    </tr>\n",
       "    <tr>\n",
       "      <th>2023-11-22 07:53:22.130822+00:00</th>\n",
       "      <td>james</td>\n",
       "      <td>0057</td>\n",
       "      <td>113</td>\n",
       "      <td>Primeape</td>\n",
       "      <td>6</td>\n",
       "      <td>105</td>\n",
       "      <td>60</td>\n",
       "      <td>65</td>\n",
       "      <td>95</td>\n",
       "      <td>Fighting</td>\n",
       "      <td>NaN</td>\n",
       "    </tr>\n",
       "    <tr>\n",
       "      <th>2023-11-22 07:41:22.130822+00:00</th>\n",
       "      <td>ash</td>\n",
       "      <td>0002</td>\n",
       "      <td>96</td>\n",
       "      <td>Ivysaur</td>\n",
       "      <td>11</td>\n",
       "      <td>62</td>\n",
       "      <td>63</td>\n",
       "      <td>60</td>\n",
       "      <td>60</td>\n",
       "      <td>Grass</td>\n",
       "      <td>Poison</td>\n",
       "    </tr>\n",
       "  </tbody>\n",
       "</table>\n",
       "<p>100000 rows × 11 columns</p>\n",
       "</div>"
      ],
      "text/plain": [
       "                                 trainer    id  num               name  level  \\\n",
       "timestamp                                                                       \n",
       "2023-11-22 07:37:22.130822+00:00   james  0134    3           Vaporeon     14   \n",
       "2023-11-22 07:32:22.130822+00:00   brock  0094    1  GengarMega Gengar      8   \n",
       "2023-11-22 07:59:22.130822+00:00   james  0069    2         Bellsprout     18   \n",
       "2023-11-22 07:01:22.130822+00:00   brock  0136    3            Flareon      7   \n",
       "2023-11-22 07:56:22.130822+00:00  jessie  0089    3                Muk     18   \n",
       "...                                  ...   ...  ...                ...    ...   \n",
       "2023-11-22 07:04:22.130822+00:00     ash  0077   97             Ponyta     17   \n",
       "2023-11-22 07:39:22.130822+00:00   misty  0053  121            Persian      7   \n",
       "2023-11-22 07:09:22.130822+00:00   james  0109  107            Koffing      7   \n",
       "2023-11-22 07:53:22.130822+00:00   james  0057  113           Primeape      6   \n",
       "2023-11-22 07:41:22.130822+00:00     ash  0002   96            Ivysaur     11   \n",
       "\n",
       "                                  attack  defense   hp  speed     type1  \\\n",
       "timestamp                                                                 \n",
       "2023-11-22 07:37:22.130822+00:00      65       60  130     65     Water   \n",
       "2023-11-22 07:32:22.130822+00:00      65       80   60    130     Ghost   \n",
       "2023-11-22 07:59:22.130822+00:00      75       35   50     40     Grass   \n",
       "2023-11-22 07:01:22.130822+00:00     130       60   65     65      Fire   \n",
       "2023-11-22 07:56:22.130822+00:00     105       75  105     50    Poison   \n",
       "...                                  ...      ...  ...    ...       ...   \n",
       "2023-11-22 07:04:22.130822+00:00      85       55   50     90      Fire   \n",
       "2023-11-22 07:39:22.130822+00:00      70       60   65    115    Normal   \n",
       "2023-11-22 07:09:22.130822+00:00      65       95   40     35    Poison   \n",
       "2023-11-22 07:53:22.130822+00:00     105       60   65     95  Fighting   \n",
       "2023-11-22 07:41:22.130822+00:00      62       63   60     60     Grass   \n",
       "\n",
       "                                   type2  \n",
       "timestamp                                 \n",
       "2023-11-22 07:37:22.130822+00:00     NaN  \n",
       "2023-11-22 07:32:22.130822+00:00  Poison  \n",
       "2023-11-22 07:59:22.130822+00:00  Poison  \n",
       "2023-11-22 07:01:22.130822+00:00     NaN  \n",
       "2023-11-22 07:56:22.130822+00:00     NaN  \n",
       "...                                  ...  \n",
       "2023-11-22 07:04:22.130822+00:00     NaN  \n",
       "2023-11-22 07:39:22.130822+00:00     NaN  \n",
       "2023-11-22 07:09:22.130822+00:00     NaN  \n",
       "2023-11-22 07:53:22.130822+00:00     NaN  \n",
       "2023-11-22 07:41:22.130822+00:00  Poison  \n",
       "\n",
       "[100000 rows x 11 columns]"
      ]
     },
     "metadata": {},
     "output_type": "display_data"
    },
    {
     "name": "stdout",
     "output_type": "stream",
     "text": [
      "wrote: pyarrow.Table\n",
      "trainer: string\n",
      "id: string\n",
      "num: string\n",
      "name: string\n",
      "level: int64\n",
      "attack: int64\n",
      "defense: int64\n",
      "hp: int64\n",
      "speed: int64\n",
      "type1: string\n",
      "type2: string\n",
      "timestamp: timestamp[ns, tz=UTC]\n",
      "----\n",
      "trainer: [[\"james\",\"brock\",\"james\",\"brock\",\"jessie\",...,\"ash\",\"misty\",\"james\",\"james\",\"ash\"]]\n",
      "id: [[\"0134\",\"0094\",\"0069\",\"0136\",\"0089\",...,\"0077\",\"0053\",\"0109\",\"0057\",\"0002\"]]\n",
      "num: [[\"3\",\"1\",\"2\",\"3\",\"3\",...,\"97\",\"121\",\"107\",\"113\",\"96\"]]\n",
      "name: [[\"Vaporeon\",\"GengarMega Gengar\",\"Bellsprout\",\"Flareon\",\"Muk\",...,\"Ponyta\",\"Persian\",\"Koffing\",\"Primeape\",\"Ivysaur\"]]\n",
      "level: [[14,8,18,7,18,...,17,7,7,6,11]]\n",
      "attack: [[65,65,75,130,105,...,85,70,65,105,62]]\n",
      "defense: [[60,80,35,60,75,...,55,60,95,60,63]]\n",
      "hp: [[130,60,50,65,105,...,50,65,40,65,60]]\n",
      "speed: [[65,130,40,65,50,...,90,115,35,95,60]]\n",
      "type1: [[\"Water\",\"Ghost\",\"Grass\",\"Fire\",\"Poison\",...,\"Fire\",\"Normal\",\"Poison\",\"Fighting\",\"Grass\"]]\n",
      "...\n"
     ]
    }
   ],
   "source": [
    "num_entries = 100000 # You can reduce this if required. The more data the more interesting the results.\n",
    "now =  pd.Timestamp.now(tz='+00:00').floor('ns')\n",
    "data = []\n",
    "\n",
    "\n",
    "# Generating random data\n",
    "for i in range(num_entries):\n",
    "    # Randomise the timestamp\n",
    "    timestamp = now - pd.Timedelta(minutes=random.randint(0, 60))\n",
    "    trainer = random.choice(trainers)\n",
    "    \n",
    "    # Randomly select a row from pokemon_df\n",
    "    random_pokemon = pokemon_df.sample().iloc[0]\n",
    "    caught = random_pokemon['Name']\n",
    "    \n",
    "    # Count the number of times this trainer has caught this Pokémon\n",
    "    if (trainer, caught) in trainer_pokemon_counts:\n",
    "        trainer_pokemon_counts[(trainer, caught)] += 1\n",
    "    else:\n",
    "        trainer_pokemon_counts[(trainer, caught)] = 1\n",
    "    \n",
    "    # Get the number for this combination of trainer and Pokémon\n",
    "    num = trainer_pokemon_counts[(trainer, caught)]\n",
    "\n",
    "    entry = {\n",
    "        \"trainer\": trainer,\n",
    "        \"id\": f\"{0000 + random_pokemon['#']:04d}\",\n",
    "        \"num\": str(num),\n",
    "        \"name\": caught,\n",
    "        \"level\": random.randint(5, 20),\n",
    "        \"attack\": random_pokemon['Attack'],\n",
    "        \"defense\": random_pokemon['Defense'],\n",
    "        \"hp\": random_pokemon['HP'],\n",
    "        \"speed\": random_pokemon['Speed'],\n",
    "        \"type1\": random_pokemon['Type 1'],\n",
    "        \"type2\": random_pokemon['Type 2'],\n",
    "        \"timestamp\": timestamp\n",
    "    }\n",
    "    data.append(entry)\n",
    "\n",
    "# Convert the list of dictionaries to a DataFrame\n",
    "caught_pokemon_df = pd.DataFrame(data).set_index('timestamp')\n",
    "\n",
    "# Print the DataFrame\n",
    "display(caught_pokemon_df)\n",
    "table = pa.Table.from_pandas(caught_pokemon_df)\n",
    "\n",
    "try:\n",
    "    descriptor = FlightDescriptor.for_path(\"caught\")\n",
    "    writer, _ = client.do_put(descriptor, table.schema)\n",
    "    writer.write_table(table)\n",
    "    print(f\"wrote: {table}\")\n",
    "    writer.close()\n",
    "except Exception as e:\n",
    "    print(f\"Error writing point: {e}\")\n",
    "\n"
   ]
  },
  {
   "cell_type": "markdown",
   "metadata": {},
   "source": [
    "Now lets return the result as an Arrow table. We can recreate he same aggregation we did on server side with the pyarrow library. the `mode='all'` parameter tells InfluxDB to return all data within the query result as a Arrow table. We can then use the `to_pandas()` method to convert the Arrow table to a Pandas DataFrame."
   ]
  },
  {
   "cell_type": "code",
   "execution_count": 47,
   "metadata": {},
   "outputs": [
    {
     "data": {
      "application/vnd.plotly.v1+json": {
       "config": {
        "plotlyServerURL": "https://plot.ly"
       },
       "data": [
        {
         "alignmentgroup": "True",
         "hovertemplate": "type1=Water<br>trainer=%{x}<br>name_count=%{y}<extra></extra>",
         "legendgroup": "Water",
         "marker": {
          "color": "#636efa",
          "pattern": {
           "shape": ""
          }
         },
         "name": "Water",
         "offsetgroup": "Water",
         "orientation": "v",
         "showlegend": true,
         "textposition": "auto",
         "type": "bar",
         "x": [
          "james",
          "misty",
          "brock",
          "jessie",
          "ash",
          "gary"
         ],
         "xaxis": "x",
         "y": [
          3144,
          3124,
          3238,
          3085,
          3269,
          3269
         ],
         "yaxis": "y"
        },
        {
         "alignmentgroup": "True",
         "hovertemplate": "type1=Ghost<br>trainer=%{x}<br>name_count=%{y}<extra></extra>",
         "legendgroup": "Ghost",
         "marker": {
          "color": "#EF553B",
          "pattern": {
           "shape": ""
          }
         },
         "name": "Ghost",
         "offsetgroup": "Ghost",
         "orientation": "v",
         "showlegend": true,
         "textposition": "auto",
         "type": "bar",
         "x": [
          "brock",
          "jessie",
          "misty",
          "gary",
          "james",
          "ash"
         ],
         "xaxis": "x",
         "y": [
          424,
          401,
          374,
          411,
          405,
          376
         ],
         "yaxis": "y"
        },
        {
         "alignmentgroup": "True",
         "hovertemplate": "type1=Grass<br>trainer=%{x}<br>name_count=%{y}<extra></extra>",
         "legendgroup": "Grass",
         "marker": {
          "color": "#00cc96",
          "pattern": {
           "shape": ""
          }
         },
         "name": "Grass",
         "offsetgroup": "Grass",
         "orientation": "v",
         "showlegend": true,
         "textposition": "auto",
         "type": "bar",
         "x": [
          "james",
          "gary",
          "ash",
          "misty",
          "brock",
          "jessie"
         ],
         "xaxis": "x",
         "y": [
          1267,
          1382,
          1348,
          1299,
          1288,
          1342
         ],
         "yaxis": "y"
        },
        {
         "alignmentgroup": "True",
         "hovertemplate": "type1=Fire<br>trainer=%{x}<br>name_count=%{y}<extra></extra>",
         "legendgroup": "Fire",
         "marker": {
          "color": "#ab63fa",
          "pattern": {
           "shape": ""
          }
         },
         "name": "Fire",
         "offsetgroup": "Fire",
         "orientation": "v",
         "showlegend": true,
         "textposition": "auto",
         "type": "bar",
         "x": [
          "brock",
          "misty",
          "james",
          "jessie",
          "gary",
          "ash"
         ],
         "xaxis": "x",
         "y": [
          1465,
          1381,
          1402,
          1415,
          1412,
          1450
         ],
         "yaxis": "y"
        },
        {
         "alignmentgroup": "True",
         "hovertemplate": "type1=Poison<br>trainer=%{x}<br>name_count=%{y}<extra></extra>",
         "legendgroup": "Poison",
         "marker": {
          "color": "#FFA15A",
          "pattern": {
           "shape": ""
          }
         },
         "name": "Poison",
         "offsetgroup": "Poison",
         "orientation": "v",
         "showlegend": true,
         "textposition": "auto",
         "type": "bar",
         "x": [
          "jessie",
          "james",
          "misty",
          "gary",
          "ash",
          "brock"
         ],
         "xaxis": "x",
         "y": [
          1449,
          1428,
          1487,
          1420,
          1460,
          1430
         ],
         "yaxis": "y"
        },
        {
         "alignmentgroup": "True",
         "hovertemplate": "type1=Ice<br>trainer=%{x}<br>name_count=%{y}<extra></extra>",
         "legendgroup": "Ice",
         "marker": {
          "color": "#19d3f3",
          "pattern": {
           "shape": ""
          }
         },
         "name": "Ice",
         "offsetgroup": "Ice",
         "orientation": "v",
         "showlegend": true,
         "textposition": "auto",
         "type": "bar",
         "x": [
          "james",
          "brock",
          "jessie",
          "ash",
          "gary",
          "misty"
         ],
         "xaxis": "x",
         "y": [
          192,
          186,
          204,
          203,
          212,
          181
         ],
         "yaxis": "y"
        },
        {
         "alignmentgroup": "True",
         "hovertemplate": "type1=Normal<br>trainer=%{x}<br>name_count=%{y}<extra></extra>",
         "legendgroup": "Normal",
         "marker": {
          "color": "#FF6692",
          "pattern": {
           "shape": ""
          }
         },
         "name": "Normal",
         "offsetgroup": "Normal",
         "orientation": "v",
         "showlegend": true,
         "textposition": "auto",
         "type": "bar",
         "x": [
          "brock",
          "james",
          "misty",
          "jessie",
          "ash",
          "gary"
         ],
         "xaxis": "x",
         "y": [
          2444,
          2443,
          2423,
          2418,
          2403,
          2396
         ],
         "yaxis": "y"
        },
        {
         "alignmentgroup": "True",
         "hovertemplate": "type1=Bug<br>trainer=%{x}<br>name_count=%{y}<extra></extra>",
         "legendgroup": "Bug",
         "marker": {
          "color": "#B6E880",
          "pattern": {
           "shape": ""
          }
         },
         "name": "Bug",
         "offsetgroup": "Bug",
         "orientation": "v",
         "showlegend": true,
         "textposition": "auto",
         "type": "bar",
         "x": [
          "ash",
          "misty",
          "brock",
          "jessie",
          "james",
          "gary"
         ],
         "xaxis": "x",
         "y": [
          1468,
          1460,
          1493,
          1369,
          1371,
          1479
         ],
         "yaxis": "y"
        },
        {
         "alignmentgroup": "True",
         "hovertemplate": "type1=Fighting<br>trainer=%{x}<br>name_count=%{y}<extra></extra>",
         "legendgroup": "Fighting",
         "marker": {
          "color": "#FF97FF",
          "pattern": {
           "shape": ""
          }
         },
         "name": "Fighting",
         "offsetgroup": "Fighting",
         "orientation": "v",
         "showlegend": true,
         "textposition": "auto",
         "type": "bar",
         "x": [
          "brock",
          "jessie",
          "misty",
          "gary",
          "ash",
          "james"
         ],
         "xaxis": "x",
         "y": [
          695,
          728,
          779,
          691,
          705,
          745
         ],
         "yaxis": "y"
        },
        {
         "alignmentgroup": "True",
         "hovertemplate": "type1=Electric<br>trainer=%{x}<br>name_count=%{y}<extra></extra>",
         "legendgroup": "Electric",
         "marker": {
          "color": "#FECB52",
          "pattern": {
           "shape": ""
          }
         },
         "name": "Electric",
         "offsetgroup": "Electric",
         "orientation": "v",
         "showlegend": true,
         "textposition": "auto",
         "type": "bar",
         "x": [
          "brock",
          "gary",
          "james",
          "jessie",
          "ash",
          "misty"
         ],
         "xaxis": "x",
         "y": [
          946,
          947,
          877,
          900,
          986,
          921
         ],
         "yaxis": "y"
        },
        {
         "alignmentgroup": "True",
         "hovertemplate": "type1=Psychic<br>trainer=%{x}<br>name_count=%{y}<extra></extra>",
         "legendgroup": "Psychic",
         "marker": {
          "color": "#636efa",
          "pattern": {
           "shape": ""
          }
         },
         "name": "Psychic",
         "offsetgroup": "Psychic",
         "orientation": "v",
         "showlegend": true,
         "textposition": "auto",
         "type": "bar",
         "x": [
          "brock",
          "gary",
          "james",
          "jessie",
          "misty",
          "ash"
         ],
         "xaxis": "x",
         "y": [
          882,
          815,
          772,
          844,
          798,
          879
         ],
         "yaxis": "y"
        },
        {
         "alignmentgroup": "True",
         "hovertemplate": "type1=Ground<br>trainer=%{x}<br>name_count=%{y}<extra></extra>",
         "legendgroup": "Ground",
         "marker": {
          "color": "#EF553B",
          "pattern": {
           "shape": ""
          }
         },
         "name": "Ground",
         "offsetgroup": "Ground",
         "orientation": "v",
         "showlegend": true,
         "textposition": "auto",
         "type": "bar",
         "x": [
          "jessie",
          "gary",
          "ash",
          "brock",
          "james",
          "misty"
         ],
         "xaxis": "x",
         "y": [
          800,
          880,
          848,
          839,
          842,
          825
         ],
         "yaxis": "y"
        },
        {
         "alignmentgroup": "True",
         "hovertemplate": "type1=Rock<br>trainer=%{x}<br>name_count=%{y}<extra></extra>",
         "legendgroup": "Rock",
         "marker": {
          "color": "#00cc96",
          "pattern": {
           "shape": ""
          }
         },
         "name": "Rock",
         "offsetgroup": "Rock",
         "orientation": "v",
         "showlegend": true,
         "textposition": "auto",
         "type": "bar",
         "x": [
          "brock",
          "misty",
          "james",
          "jessie",
          "gary",
          "ash"
         ],
         "xaxis": "x",
         "y": [
          968,
          1059,
          1007,
          1006,
          992,
          993
         ],
         "yaxis": "y"
        },
        {
         "alignmentgroup": "True",
         "hovertemplate": "type1=Dragon<br>trainer=%{x}<br>name_count=%{y}<extra></extra>",
         "legendgroup": "Dragon",
         "marker": {
          "color": "#ab63fa",
          "pattern": {
           "shape": ""
          }
         },
         "name": "Dragon",
         "offsetgroup": "Dragon",
         "orientation": "v",
         "showlegend": true,
         "textposition": "auto",
         "type": "bar",
         "x": [
          "ash",
          "misty",
          "jessie",
          "gary",
          "brock",
          "james"
         ],
         "xaxis": "x",
         "y": [
          307,
          318,
          278,
          294,
          342,
          289
         ],
         "yaxis": "y"
        },
        {
         "alignmentgroup": "True",
         "hovertemplate": "type1=Fairy<br>trainer=%{x}<br>name_count=%{y}<extra></extra>",
         "legendgroup": "Fairy",
         "marker": {
          "color": "#FFA15A",
          "pattern": {
           "shape": ""
          }
         },
         "name": "Fairy",
         "offsetgroup": "Fairy",
         "orientation": "v",
         "showlegend": true,
         "textposition": "auto",
         "type": "bar",
         "x": [
          "misty",
          "jessie",
          "gary",
          "ash",
          "brock",
          "james"
         ],
         "xaxis": "x",
         "y": [
          230,
          196,
          204,
          168,
          203,
          212
         ],
         "yaxis": "y"
        }
       ],
       "layout": {
        "barmode": "group",
        "legend": {
         "title": {
          "text": "type1"
         },
         "tracegroupgap": 0
        },
        "template": {
         "data": {
          "bar": [
           {
            "error_x": {
             "color": "#2a3f5f"
            },
            "error_y": {
             "color": "#2a3f5f"
            },
            "marker": {
             "line": {
              "color": "#E5ECF6",
              "width": 0.5
             },
             "pattern": {
              "fillmode": "overlay",
              "size": 10,
              "solidity": 0.2
             }
            },
            "type": "bar"
           }
          ],
          "barpolar": [
           {
            "marker": {
             "line": {
              "color": "#E5ECF6",
              "width": 0.5
             },
             "pattern": {
              "fillmode": "overlay",
              "size": 10,
              "solidity": 0.2
             }
            },
            "type": "barpolar"
           }
          ],
          "carpet": [
           {
            "aaxis": {
             "endlinecolor": "#2a3f5f",
             "gridcolor": "white",
             "linecolor": "white",
             "minorgridcolor": "white",
             "startlinecolor": "#2a3f5f"
            },
            "baxis": {
             "endlinecolor": "#2a3f5f",
             "gridcolor": "white",
             "linecolor": "white",
             "minorgridcolor": "white",
             "startlinecolor": "#2a3f5f"
            },
            "type": "carpet"
           }
          ],
          "choropleth": [
           {
            "colorbar": {
             "outlinewidth": 0,
             "ticks": ""
            },
            "type": "choropleth"
           }
          ],
          "contour": [
           {
            "colorbar": {
             "outlinewidth": 0,
             "ticks": ""
            },
            "colorscale": [
             [
              0,
              "#0d0887"
             ],
             [
              0.1111111111111111,
              "#46039f"
             ],
             [
              0.2222222222222222,
              "#7201a8"
             ],
             [
              0.3333333333333333,
              "#9c179e"
             ],
             [
              0.4444444444444444,
              "#bd3786"
             ],
             [
              0.5555555555555556,
              "#d8576b"
             ],
             [
              0.6666666666666666,
              "#ed7953"
             ],
             [
              0.7777777777777778,
              "#fb9f3a"
             ],
             [
              0.8888888888888888,
              "#fdca26"
             ],
             [
              1,
              "#f0f921"
             ]
            ],
            "type": "contour"
           }
          ],
          "contourcarpet": [
           {
            "colorbar": {
             "outlinewidth": 0,
             "ticks": ""
            },
            "type": "contourcarpet"
           }
          ],
          "heatmap": [
           {
            "colorbar": {
             "outlinewidth": 0,
             "ticks": ""
            },
            "colorscale": [
             [
              0,
              "#0d0887"
             ],
             [
              0.1111111111111111,
              "#46039f"
             ],
             [
              0.2222222222222222,
              "#7201a8"
             ],
             [
              0.3333333333333333,
              "#9c179e"
             ],
             [
              0.4444444444444444,
              "#bd3786"
             ],
             [
              0.5555555555555556,
              "#d8576b"
             ],
             [
              0.6666666666666666,
              "#ed7953"
             ],
             [
              0.7777777777777778,
              "#fb9f3a"
             ],
             [
              0.8888888888888888,
              "#fdca26"
             ],
             [
              1,
              "#f0f921"
             ]
            ],
            "type": "heatmap"
           }
          ],
          "heatmapgl": [
           {
            "colorbar": {
             "outlinewidth": 0,
             "ticks": ""
            },
            "colorscale": [
             [
              0,
              "#0d0887"
             ],
             [
              0.1111111111111111,
              "#46039f"
             ],
             [
              0.2222222222222222,
              "#7201a8"
             ],
             [
              0.3333333333333333,
              "#9c179e"
             ],
             [
              0.4444444444444444,
              "#bd3786"
             ],
             [
              0.5555555555555556,
              "#d8576b"
             ],
             [
              0.6666666666666666,
              "#ed7953"
             ],
             [
              0.7777777777777778,
              "#fb9f3a"
             ],
             [
              0.8888888888888888,
              "#fdca26"
             ],
             [
              1,
              "#f0f921"
             ]
            ],
            "type": "heatmapgl"
           }
          ],
          "histogram": [
           {
            "marker": {
             "pattern": {
              "fillmode": "overlay",
              "size": 10,
              "solidity": 0.2
             }
            },
            "type": "histogram"
           }
          ],
          "histogram2d": [
           {
            "colorbar": {
             "outlinewidth": 0,
             "ticks": ""
            },
            "colorscale": [
             [
              0,
              "#0d0887"
             ],
             [
              0.1111111111111111,
              "#46039f"
             ],
             [
              0.2222222222222222,
              "#7201a8"
             ],
             [
              0.3333333333333333,
              "#9c179e"
             ],
             [
              0.4444444444444444,
              "#bd3786"
             ],
             [
              0.5555555555555556,
              "#d8576b"
             ],
             [
              0.6666666666666666,
              "#ed7953"
             ],
             [
              0.7777777777777778,
              "#fb9f3a"
             ],
             [
              0.8888888888888888,
              "#fdca26"
             ],
             [
              1,
              "#f0f921"
             ]
            ],
            "type": "histogram2d"
           }
          ],
          "histogram2dcontour": [
           {
            "colorbar": {
             "outlinewidth": 0,
             "ticks": ""
            },
            "colorscale": [
             [
              0,
              "#0d0887"
             ],
             [
              0.1111111111111111,
              "#46039f"
             ],
             [
              0.2222222222222222,
              "#7201a8"
             ],
             [
              0.3333333333333333,
              "#9c179e"
             ],
             [
              0.4444444444444444,
              "#bd3786"
             ],
             [
              0.5555555555555556,
              "#d8576b"
             ],
             [
              0.6666666666666666,
              "#ed7953"
             ],
             [
              0.7777777777777778,
              "#fb9f3a"
             ],
             [
              0.8888888888888888,
              "#fdca26"
             ],
             [
              1,
              "#f0f921"
             ]
            ],
            "type": "histogram2dcontour"
           }
          ],
          "mesh3d": [
           {
            "colorbar": {
             "outlinewidth": 0,
             "ticks": ""
            },
            "type": "mesh3d"
           }
          ],
          "parcoords": [
           {
            "line": {
             "colorbar": {
              "outlinewidth": 0,
              "ticks": ""
             }
            },
            "type": "parcoords"
           }
          ],
          "pie": [
           {
            "automargin": true,
            "type": "pie"
           }
          ],
          "scatter": [
           {
            "fillpattern": {
             "fillmode": "overlay",
             "size": 10,
             "solidity": 0.2
            },
            "type": "scatter"
           }
          ],
          "scatter3d": [
           {
            "line": {
             "colorbar": {
              "outlinewidth": 0,
              "ticks": ""
             }
            },
            "marker": {
             "colorbar": {
              "outlinewidth": 0,
              "ticks": ""
             }
            },
            "type": "scatter3d"
           }
          ],
          "scattercarpet": [
           {
            "marker": {
             "colorbar": {
              "outlinewidth": 0,
              "ticks": ""
             }
            },
            "type": "scattercarpet"
           }
          ],
          "scattergeo": [
           {
            "marker": {
             "colorbar": {
              "outlinewidth": 0,
              "ticks": ""
             }
            },
            "type": "scattergeo"
           }
          ],
          "scattergl": [
           {
            "marker": {
             "colorbar": {
              "outlinewidth": 0,
              "ticks": ""
             }
            },
            "type": "scattergl"
           }
          ],
          "scattermapbox": [
           {
            "marker": {
             "colorbar": {
              "outlinewidth": 0,
              "ticks": ""
             }
            },
            "type": "scattermapbox"
           }
          ],
          "scatterpolar": [
           {
            "marker": {
             "colorbar": {
              "outlinewidth": 0,
              "ticks": ""
             }
            },
            "type": "scatterpolar"
           }
          ],
          "scatterpolargl": [
           {
            "marker": {
             "colorbar": {
              "outlinewidth": 0,
              "ticks": ""
             }
            },
            "type": "scatterpolargl"
           }
          ],
          "scatterternary": [
           {
            "marker": {
             "colorbar": {
              "outlinewidth": 0,
              "ticks": ""
             }
            },
            "type": "scatterternary"
           }
          ],
          "surface": [
           {
            "colorbar": {
             "outlinewidth": 0,
             "ticks": ""
            },
            "colorscale": [
             [
              0,
              "#0d0887"
             ],
             [
              0.1111111111111111,
              "#46039f"
             ],
             [
              0.2222222222222222,
              "#7201a8"
             ],
             [
              0.3333333333333333,
              "#9c179e"
             ],
             [
              0.4444444444444444,
              "#bd3786"
             ],
             [
              0.5555555555555556,
              "#d8576b"
             ],
             [
              0.6666666666666666,
              "#ed7953"
             ],
             [
              0.7777777777777778,
              "#fb9f3a"
             ],
             [
              0.8888888888888888,
              "#fdca26"
             ],
             [
              1,
              "#f0f921"
             ]
            ],
            "type": "surface"
           }
          ],
          "table": [
           {
            "cells": {
             "fill": {
              "color": "#EBF0F8"
             },
             "line": {
              "color": "white"
             }
            },
            "header": {
             "fill": {
              "color": "#C8D4E3"
             },
             "line": {
              "color": "white"
             }
            },
            "type": "table"
           }
          ]
         },
         "layout": {
          "annotationdefaults": {
           "arrowcolor": "#2a3f5f",
           "arrowhead": 0,
           "arrowwidth": 1
          },
          "autotypenumbers": "strict",
          "coloraxis": {
           "colorbar": {
            "outlinewidth": 0,
            "ticks": ""
           }
          },
          "colorscale": {
           "diverging": [
            [
             0,
             "#8e0152"
            ],
            [
             0.1,
             "#c51b7d"
            ],
            [
             0.2,
             "#de77ae"
            ],
            [
             0.3,
             "#f1b6da"
            ],
            [
             0.4,
             "#fde0ef"
            ],
            [
             0.5,
             "#f7f7f7"
            ],
            [
             0.6,
             "#e6f5d0"
            ],
            [
             0.7,
             "#b8e186"
            ],
            [
             0.8,
             "#7fbc41"
            ],
            [
             0.9,
             "#4d9221"
            ],
            [
             1,
             "#276419"
            ]
           ],
           "sequential": [
            [
             0,
             "#0d0887"
            ],
            [
             0.1111111111111111,
             "#46039f"
            ],
            [
             0.2222222222222222,
             "#7201a8"
            ],
            [
             0.3333333333333333,
             "#9c179e"
            ],
            [
             0.4444444444444444,
             "#bd3786"
            ],
            [
             0.5555555555555556,
             "#d8576b"
            ],
            [
             0.6666666666666666,
             "#ed7953"
            ],
            [
             0.7777777777777778,
             "#fb9f3a"
            ],
            [
             0.8888888888888888,
             "#fdca26"
            ],
            [
             1,
             "#f0f921"
            ]
           ],
           "sequentialminus": [
            [
             0,
             "#0d0887"
            ],
            [
             0.1111111111111111,
             "#46039f"
            ],
            [
             0.2222222222222222,
             "#7201a8"
            ],
            [
             0.3333333333333333,
             "#9c179e"
            ],
            [
             0.4444444444444444,
             "#bd3786"
            ],
            [
             0.5555555555555556,
             "#d8576b"
            ],
            [
             0.6666666666666666,
             "#ed7953"
            ],
            [
             0.7777777777777778,
             "#fb9f3a"
            ],
            [
             0.8888888888888888,
             "#fdca26"
            ],
            [
             1,
             "#f0f921"
            ]
           ]
          },
          "colorway": [
           "#636efa",
           "#EF553B",
           "#00cc96",
           "#ab63fa",
           "#FFA15A",
           "#19d3f3",
           "#FF6692",
           "#B6E880",
           "#FF97FF",
           "#FECB52"
          ],
          "font": {
           "color": "#2a3f5f"
          },
          "geo": {
           "bgcolor": "white",
           "lakecolor": "white",
           "landcolor": "#E5ECF6",
           "showlakes": true,
           "showland": true,
           "subunitcolor": "white"
          },
          "hoverlabel": {
           "align": "left"
          },
          "hovermode": "closest",
          "mapbox": {
           "style": "light"
          },
          "paper_bgcolor": "white",
          "plot_bgcolor": "#E5ECF6",
          "polar": {
           "angularaxis": {
            "gridcolor": "white",
            "linecolor": "white",
            "ticks": ""
           },
           "bgcolor": "#E5ECF6",
           "radialaxis": {
            "gridcolor": "white",
            "linecolor": "white",
            "ticks": ""
           }
          },
          "scene": {
           "xaxis": {
            "backgroundcolor": "#E5ECF6",
            "gridcolor": "white",
            "gridwidth": 2,
            "linecolor": "white",
            "showbackground": true,
            "ticks": "",
            "zerolinecolor": "white"
           },
           "yaxis": {
            "backgroundcolor": "#E5ECF6",
            "gridcolor": "white",
            "gridwidth": 2,
            "linecolor": "white",
            "showbackground": true,
            "ticks": "",
            "zerolinecolor": "white"
           },
           "zaxis": {
            "backgroundcolor": "#E5ECF6",
            "gridcolor": "white",
            "gridwidth": 2,
            "linecolor": "white",
            "showbackground": true,
            "ticks": "",
            "zerolinecolor": "white"
           }
          },
          "shapedefaults": {
           "line": {
            "color": "#2a3f5f"
           }
          },
          "ternary": {
           "aaxis": {
            "gridcolor": "white",
            "linecolor": "white",
            "ticks": ""
           },
           "baxis": {
            "gridcolor": "white",
            "linecolor": "white",
            "ticks": ""
           },
           "bgcolor": "#E5ECF6",
           "caxis": {
            "gridcolor": "white",
            "linecolor": "white",
            "ticks": ""
           }
          },
          "title": {
           "x": 0.05
          },
          "xaxis": {
           "automargin": true,
           "gridcolor": "white",
           "linecolor": "white",
           "ticks": "",
           "title": {
            "standoff": 15
           },
           "zerolinecolor": "white",
           "zerolinewidth": 2
          },
          "yaxis": {
           "automargin": true,
           "gridcolor": "white",
           "linecolor": "white",
           "ticks": "",
           "title": {
            "standoff": 15
           },
           "zerolinecolor": "white",
           "zerolinewidth": 2
          }
         }
        },
        "title": {
         "text": "Number of Pokémon caught grouped by type"
        },
        "xaxis": {
         "anchor": "y",
         "domain": [
          0,
          1
         ],
         "title": {
          "text": "trainer"
         }
        },
        "yaxis": {
         "anchor": "x",
         "domain": [
          0,
          1
         ],
         "title": {
          "text": "name_count"
         }
        }
       }
      }
     },
     "metadata": {},
     "output_type": "display_data"
    }
   ],
   "source": [
    "query='''SELECT * FROM caught'''\n",
    "ticket_bytes = json.dumps({'sql':query, 'table':'caught'})\n",
    "ticket = Ticket(ticket_bytes)\n",
    "reader = client.do_get(ticket)\n",
    "table = reader.read_all()\n",
    "\n",
    "\n",
    "# PyArrow Aggregation\n",
    "aggregation = table.group_by([\"trainer\", \"type1\"]).aggregate([(\"name\", \"count\")]).to_pandas()\n",
    "fig3 = px.bar(aggregation, x=\"trainer\", y=\"name_count\", color='type1', barmode= 'group', title='Number of Pokémon caught grouped by type')\n",
    "fig3.show()"
   ]
  },
  {
   "cell_type": "markdown",
   "metadata": {},
   "source": [
    "### Saving to file\n",
    "We can also save our query results to file. This is useful if we want to save our data for later use. We can save our data in a number of formats including CSV, JSON, Parquet and Apache Arrow. Lets save our data as a parquet file."
   ]
  },
  {
   "cell_type": "code",
   "execution_count": 48,
   "metadata": {},
   "outputs": [],
   "source": [
    "import pyarrow.parquet as pq\n",
    "\n",
    "# Write the table to a parquet file\n",
    "pq.write_table(table, 'kanto.parquet')"
   ]
  },
  {
   "cell_type": "markdown",
   "metadata": {},
   "source": [
    "### Working with Parquet files\n",
    "This allows to show show off another feature of the InfluxDB 3.0 Python Client. We can parse our file directly to InfluxDB. This is useful if we want to upload data from a local file. Lets upload our parquet file to InfluxDB."
   ]
  },
  {
   "cell_type": "code",
   "execution_count": 49,
   "metadata": {},
   "outputs": [
    {
     "name": "stdout",
     "output_type": "stream",
     "text": [
      "wrote: pyarrow.Table\n",
      "trainer: string\n",
      "id: string\n",
      "num: string\n",
      "name: string\n",
      "level: int64\n",
      "attack: int64\n",
      "defense: int64\n",
      "hp: int64\n",
      "speed: int64\n",
      "type1: string\n",
      "type2: string\n",
      "timestamp: timestamp[ns, tz=UTC]\n",
      "----\n",
      "trainer: [[\"james\",\"brock\",\"james\",\"brock\",\"jessie\",...,\"ash\",\"misty\",\"james\",\"james\",\"ash\"]]\n",
      "id: [[\"0134\",\"0094\",\"0069\",\"0136\",\"0089\",...,\"0077\",\"0053\",\"0109\",\"0057\",\"0002\"]]\n",
      "num: [[\"3\",\"1\",\"2\",\"3\",\"3\",...,\"97\",\"121\",\"107\",\"113\",\"96\"]]\n",
      "name: [[\"Vaporeon\",\"GengarMega Gengar\",\"Bellsprout\",\"Flareon\",\"Muk\",...,\"Ponyta\",\"Persian\",\"Koffing\",\"Primeape\",\"Ivysaur\"]]\n",
      "level: [[14,8,18,7,18,...,17,7,7,6,11]]\n",
      "attack: [[65,65,75,130,105,...,85,70,65,105,62]]\n",
      "defense: [[60,80,35,60,75,...,55,60,95,60,63]]\n",
      "hp: [[130,60,50,65,105,...,50,65,40,65,60]]\n",
      "speed: [[65,130,40,65,50,...,90,115,35,95,60]]\n",
      "type1: [[\"Water\",\"Ghost\",\"Grass\",\"Fire\",\"Poison\",...,\"Fire\",\"Normal\",\"Poison\",\"Fighting\",\"Grass\"]]\n",
      "...\n"
     ]
    }
   ],
   "source": [
    "# Read the parquet file into a table\n",
    "table = pq.read_table('kanto.parquet')\n",
    "descriptor = FlightDescriptor.for_path(\"kanto\")\n",
    "writer, _ = client.do_put(descriptor, table.schema)\n",
    "writer.write_table(table)\n",
    "print(f\"wrote: {table}\")\n",
    "writer.close()\n"
   ]
  },
  {
   "cell_type": "markdown",
   "metadata": {},
   "source": [
    "### Group by time query\n",
    "Finally lets run a group by time query to get the number of pokemon caught by each trainer over the last hour grouped into 10 minute intervals. We will then use Plotly to visualise this data."
   ]
  },
  {
   "cell_type": "code",
   "execution_count": 50,
   "metadata": {},
   "outputs": [
    {
     "name": "stdout",
     "output_type": "stream",
     "text": [
      "    trainer                       bin  count\n",
      "0       ash 2023-11-22 07:59:00+00:00    287\n",
      "1      gary 2023-11-22 07:59:00+00:00    248\n",
      "2     james 2023-11-22 07:59:00+00:00    240\n",
      "3     misty 2023-11-22 07:59:00+00:00    267\n",
      "4    jessie 2023-11-22 07:59:00+00:00    262\n",
      "..      ...                       ...    ...\n",
      "361    gary 2023-11-22 06:59:00+00:00    273\n",
      "362   james 2023-11-22 06:59:00+00:00    277\n",
      "363   misty 2023-11-22 06:59:00+00:00    275\n",
      "364   brock 2023-11-22 06:59:00+00:00    297\n",
      "365  jessie 2023-11-22 06:59:00+00:00    239\n",
      "\n",
      "[366 rows x 3 columns]\n"
     ]
    },
    {
     "data": {
      "application/vnd.plotly.v1+json": {
       "config": {
        "plotlyServerURL": "https://plot.ly"
       },
       "data": [
        {
         "hovertemplate": "trainer=ash<br>bin=%{x}<br>count=%{y}<extra></extra>",
         "legendgroup": "ash",
         "line": {
          "color": "#636efa",
          "dash": "solid"
         },
         "marker": {
          "symbol": "circle"
         },
         "mode": "lines",
         "name": "ash",
         "orientation": "v",
         "showlegend": true,
         "type": "scatter",
         "x": [
          "2023-11-22T07:59:00+00:00",
          "2023-11-22T07:58:00+00:00",
          "2023-11-22T07:57:00+00:00",
          "2023-11-22T07:56:00+00:00",
          "2023-11-22T07:55:00+00:00",
          "2023-11-22T07:54:00+00:00",
          "2023-11-22T07:53:00+00:00",
          "2023-11-22T07:52:00+00:00",
          "2023-11-22T07:51:00+00:00",
          "2023-11-22T07:50:00+00:00",
          "2023-11-22T07:49:00+00:00",
          "2023-11-22T07:48:00+00:00",
          "2023-11-22T07:47:00+00:00",
          "2023-11-22T07:46:00+00:00",
          "2023-11-22T07:45:00+00:00",
          "2023-11-22T07:44:00+00:00",
          "2023-11-22T07:43:00+00:00",
          "2023-11-22T07:42:00+00:00",
          "2023-11-22T07:41:00+00:00",
          "2023-11-22T07:40:00+00:00",
          "2023-11-22T07:39:00+00:00",
          "2023-11-22T07:38:00+00:00",
          "2023-11-22T07:37:00+00:00",
          "2023-11-22T07:36:00+00:00",
          "2023-11-22T07:35:00+00:00",
          "2023-11-22T07:34:00+00:00",
          "2023-11-22T07:33:00+00:00",
          "2023-11-22T07:32:00+00:00",
          "2023-11-22T07:31:00+00:00",
          "2023-11-22T07:30:00+00:00",
          "2023-11-22T07:29:00+00:00",
          "2023-11-22T07:28:00+00:00",
          "2023-11-22T07:27:00+00:00",
          "2023-11-22T07:26:00+00:00",
          "2023-11-22T07:25:00+00:00",
          "2023-11-22T07:24:00+00:00",
          "2023-11-22T07:23:00+00:00",
          "2023-11-22T07:22:00+00:00",
          "2023-11-22T07:21:00+00:00",
          "2023-11-22T07:20:00+00:00",
          "2023-11-22T07:19:00+00:00",
          "2023-11-22T07:18:00+00:00",
          "2023-11-22T07:17:00+00:00",
          "2023-11-22T07:16:00+00:00",
          "2023-11-22T07:15:00+00:00",
          "2023-11-22T07:14:00+00:00",
          "2023-11-22T07:13:00+00:00",
          "2023-11-22T07:12:00+00:00",
          "2023-11-22T07:11:00+00:00",
          "2023-11-22T07:10:00+00:00",
          "2023-11-22T07:09:00+00:00",
          "2023-11-22T07:08:00+00:00",
          "2023-11-22T07:07:00+00:00",
          "2023-11-22T07:06:00+00:00",
          "2023-11-22T07:05:00+00:00",
          "2023-11-22T07:04:00+00:00",
          "2023-11-22T07:03:00+00:00",
          "2023-11-22T07:02:00+00:00",
          "2023-11-22T07:01:00+00:00",
          "2023-11-22T07:00:00+00:00",
          "2023-11-22T06:59:00+00:00"
         ],
         "xaxis": "x",
         "y": [
          287,
          270,
          289,
          259,
          265,
          274,
          258,
          264,
          301,
          262,
          269,
          270,
          264,
          265,
          275,
          275,
          288,
          271,
          274,
          255,
          262,
          282,
          291,
          266,
          288,
          265,
          281,
          264,
          263,
          271,
          260,
          276,
          309,
          260,
          275,
          300,
          261,
          256,
          277,
          272,
          277,
          280,
          276,
          283,
          302,
          288,
          293,
          266,
          288,
          304,
          279,
          325,
          278,
          266,
          285,
          296,
          261,
          259,
          280,
          263,
          300
         ],
         "yaxis": "y"
        },
        {
         "hovertemplate": "trainer=gary<br>bin=%{x}<br>count=%{y}<extra></extra>",
         "legendgroup": "gary",
         "line": {
          "color": "#EF553B",
          "dash": "solid"
         },
         "marker": {
          "symbol": "circle"
         },
         "mode": "lines",
         "name": "gary",
         "orientation": "v",
         "showlegend": true,
         "type": "scatter",
         "x": [
          "2023-11-22T07:59:00+00:00",
          "2023-11-22T07:58:00+00:00",
          "2023-11-22T07:57:00+00:00",
          "2023-11-22T07:56:00+00:00",
          "2023-11-22T07:55:00+00:00",
          "2023-11-22T07:54:00+00:00",
          "2023-11-22T07:53:00+00:00",
          "2023-11-22T07:52:00+00:00",
          "2023-11-22T07:51:00+00:00",
          "2023-11-22T07:50:00+00:00",
          "2023-11-22T07:49:00+00:00",
          "2023-11-22T07:48:00+00:00",
          "2023-11-22T07:47:00+00:00",
          "2023-11-22T07:46:00+00:00",
          "2023-11-22T07:45:00+00:00",
          "2023-11-22T07:44:00+00:00",
          "2023-11-22T07:43:00+00:00",
          "2023-11-22T07:42:00+00:00",
          "2023-11-22T07:41:00+00:00",
          "2023-11-22T07:40:00+00:00",
          "2023-11-22T07:39:00+00:00",
          "2023-11-22T07:38:00+00:00",
          "2023-11-22T07:37:00+00:00",
          "2023-11-22T07:36:00+00:00",
          "2023-11-22T07:35:00+00:00",
          "2023-11-22T07:34:00+00:00",
          "2023-11-22T07:33:00+00:00",
          "2023-11-22T07:32:00+00:00",
          "2023-11-22T07:31:00+00:00",
          "2023-11-22T07:30:00+00:00",
          "2023-11-22T07:29:00+00:00",
          "2023-11-22T07:28:00+00:00",
          "2023-11-22T07:27:00+00:00",
          "2023-11-22T07:26:00+00:00",
          "2023-11-22T07:25:00+00:00",
          "2023-11-22T07:24:00+00:00",
          "2023-11-22T07:23:00+00:00",
          "2023-11-22T07:22:00+00:00",
          "2023-11-22T07:21:00+00:00",
          "2023-11-22T07:20:00+00:00",
          "2023-11-22T07:19:00+00:00",
          "2023-11-22T07:18:00+00:00",
          "2023-11-22T07:17:00+00:00",
          "2023-11-22T07:16:00+00:00",
          "2023-11-22T07:15:00+00:00",
          "2023-11-22T07:14:00+00:00",
          "2023-11-22T07:13:00+00:00",
          "2023-11-22T07:12:00+00:00",
          "2023-11-22T07:11:00+00:00",
          "2023-11-22T07:10:00+00:00",
          "2023-11-22T07:09:00+00:00",
          "2023-11-22T07:08:00+00:00",
          "2023-11-22T07:07:00+00:00",
          "2023-11-22T07:06:00+00:00",
          "2023-11-22T07:05:00+00:00",
          "2023-11-22T07:04:00+00:00",
          "2023-11-22T07:03:00+00:00",
          "2023-11-22T07:02:00+00:00",
          "2023-11-22T07:01:00+00:00",
          "2023-11-22T07:00:00+00:00",
          "2023-11-22T06:59:00+00:00"
         ],
         "xaxis": "x",
         "y": [
          248,
          263,
          278,
          290,
          284,
          271,
          252,
          298,
          249,
          284,
          273,
          293,
          322,
          260,
          274,
          249,
          317,
          310,
          276,
          252,
          275,
          264,
          278,
          247,
          279,
          299,
          274,
          268,
          262,
          240,
          251,
          274,
          287,
          269,
          264,
          287,
          276,
          294,
          283,
          282,
          285,
          289,
          283,
          273,
          231,
          277,
          293,
          291,
          265,
          283,
          268,
          271,
          273,
          279,
          290,
          284,
          280,
          275,
          264,
          281,
          273
         ],
         "yaxis": "y"
        },
        {
         "hovertemplate": "trainer=james<br>bin=%{x}<br>count=%{y}<extra></extra>",
         "legendgroup": "james",
         "line": {
          "color": "#00cc96",
          "dash": "solid"
         },
         "marker": {
          "symbol": "circle"
         },
         "mode": "lines",
         "name": "james",
         "orientation": "v",
         "showlegend": true,
         "type": "scatter",
         "x": [
          "2023-11-22T07:59:00+00:00",
          "2023-11-22T07:58:00+00:00",
          "2023-11-22T07:57:00+00:00",
          "2023-11-22T07:56:00+00:00",
          "2023-11-22T07:55:00+00:00",
          "2023-11-22T07:54:00+00:00",
          "2023-11-22T07:53:00+00:00",
          "2023-11-22T07:52:00+00:00",
          "2023-11-22T07:51:00+00:00",
          "2023-11-22T07:50:00+00:00",
          "2023-11-22T07:49:00+00:00",
          "2023-11-22T07:48:00+00:00",
          "2023-11-22T07:47:00+00:00",
          "2023-11-22T07:46:00+00:00",
          "2023-11-22T07:45:00+00:00",
          "2023-11-22T07:44:00+00:00",
          "2023-11-22T07:43:00+00:00",
          "2023-11-22T07:42:00+00:00",
          "2023-11-22T07:41:00+00:00",
          "2023-11-22T07:40:00+00:00",
          "2023-11-22T07:39:00+00:00",
          "2023-11-22T07:38:00+00:00",
          "2023-11-22T07:37:00+00:00",
          "2023-11-22T07:36:00+00:00",
          "2023-11-22T07:35:00+00:00",
          "2023-11-22T07:34:00+00:00",
          "2023-11-22T07:33:00+00:00",
          "2023-11-22T07:32:00+00:00",
          "2023-11-22T07:31:00+00:00",
          "2023-11-22T07:30:00+00:00",
          "2023-11-22T07:29:00+00:00",
          "2023-11-22T07:28:00+00:00",
          "2023-11-22T07:27:00+00:00",
          "2023-11-22T07:26:00+00:00",
          "2023-11-22T07:25:00+00:00",
          "2023-11-22T07:24:00+00:00",
          "2023-11-22T07:23:00+00:00",
          "2023-11-22T07:22:00+00:00",
          "2023-11-22T07:21:00+00:00",
          "2023-11-22T07:20:00+00:00",
          "2023-11-22T07:19:00+00:00",
          "2023-11-22T07:18:00+00:00",
          "2023-11-22T07:17:00+00:00",
          "2023-11-22T07:16:00+00:00",
          "2023-11-22T07:15:00+00:00",
          "2023-11-22T07:14:00+00:00",
          "2023-11-22T07:13:00+00:00",
          "2023-11-22T07:12:00+00:00",
          "2023-11-22T07:11:00+00:00",
          "2023-11-22T07:10:00+00:00",
          "2023-11-22T07:09:00+00:00",
          "2023-11-22T07:08:00+00:00",
          "2023-11-22T07:07:00+00:00",
          "2023-11-22T07:06:00+00:00",
          "2023-11-22T07:05:00+00:00",
          "2023-11-22T07:04:00+00:00",
          "2023-11-22T07:03:00+00:00",
          "2023-11-22T07:02:00+00:00",
          "2023-11-22T07:01:00+00:00",
          "2023-11-22T07:00:00+00:00",
          "2023-11-22T06:59:00+00:00"
         ],
         "xaxis": "x",
         "y": [
          240,
          280,
          297,
          261,
          236,
          255,
          276,
          299,
          287,
          278,
          298,
          251,
          286,
          257,
          276,
          257,
          275,
          282,
          269,
          255,
          253,
          275,
          276,
          284,
          299,
          290,
          286,
          281,
          276,
          264,
          271,
          246,
          269,
          275,
          268,
          250,
          268,
          271,
          241,
          292,
          257,
          273,
          233,
          268,
          276,
          279,
          296,
          252,
          272,
          295,
          271,
          258,
          246,
          279,
          263,
          267,
          268,
          256,
          246,
          214,
          277
         ],
         "yaxis": "y"
        },
        {
         "hovertemplate": "trainer=misty<br>bin=%{x}<br>count=%{y}<extra></extra>",
         "legendgroup": "misty",
         "line": {
          "color": "#ab63fa",
          "dash": "solid"
         },
         "marker": {
          "symbol": "circle"
         },
         "mode": "lines",
         "name": "misty",
         "orientation": "v",
         "showlegend": true,
         "type": "scatter",
         "x": [
          "2023-11-22T07:59:00+00:00",
          "2023-11-22T07:58:00+00:00",
          "2023-11-22T07:57:00+00:00",
          "2023-11-22T07:56:00+00:00",
          "2023-11-22T07:55:00+00:00",
          "2023-11-22T07:54:00+00:00",
          "2023-11-22T07:53:00+00:00",
          "2023-11-22T07:52:00+00:00",
          "2023-11-22T07:51:00+00:00",
          "2023-11-22T07:50:00+00:00",
          "2023-11-22T07:49:00+00:00",
          "2023-11-22T07:48:00+00:00",
          "2023-11-22T07:47:00+00:00",
          "2023-11-22T07:46:00+00:00",
          "2023-11-22T07:45:00+00:00",
          "2023-11-22T07:44:00+00:00",
          "2023-11-22T07:43:00+00:00",
          "2023-11-22T07:42:00+00:00",
          "2023-11-22T07:41:00+00:00",
          "2023-11-22T07:40:00+00:00",
          "2023-11-22T07:39:00+00:00",
          "2023-11-22T07:38:00+00:00",
          "2023-11-22T07:37:00+00:00",
          "2023-11-22T07:36:00+00:00",
          "2023-11-22T07:35:00+00:00",
          "2023-11-22T07:34:00+00:00",
          "2023-11-22T07:33:00+00:00",
          "2023-11-22T07:32:00+00:00",
          "2023-11-22T07:31:00+00:00",
          "2023-11-22T07:30:00+00:00",
          "2023-11-22T07:29:00+00:00",
          "2023-11-22T07:28:00+00:00",
          "2023-11-22T07:27:00+00:00",
          "2023-11-22T07:26:00+00:00",
          "2023-11-22T07:25:00+00:00",
          "2023-11-22T07:24:00+00:00",
          "2023-11-22T07:23:00+00:00",
          "2023-11-22T07:22:00+00:00",
          "2023-11-22T07:21:00+00:00",
          "2023-11-22T07:20:00+00:00",
          "2023-11-22T07:19:00+00:00",
          "2023-11-22T07:18:00+00:00",
          "2023-11-22T07:17:00+00:00",
          "2023-11-22T07:16:00+00:00",
          "2023-11-22T07:15:00+00:00",
          "2023-11-22T07:14:00+00:00",
          "2023-11-22T07:13:00+00:00",
          "2023-11-22T07:12:00+00:00",
          "2023-11-22T07:11:00+00:00",
          "2023-11-22T07:10:00+00:00",
          "2023-11-22T07:09:00+00:00",
          "2023-11-22T07:08:00+00:00",
          "2023-11-22T07:07:00+00:00",
          "2023-11-22T07:06:00+00:00",
          "2023-11-22T07:05:00+00:00",
          "2023-11-22T07:04:00+00:00",
          "2023-11-22T07:03:00+00:00",
          "2023-11-22T07:02:00+00:00",
          "2023-11-22T07:01:00+00:00",
          "2023-11-22T07:00:00+00:00",
          "2023-11-22T06:59:00+00:00"
         ],
         "xaxis": "x",
         "y": [
          267,
          294,
          295,
          269,
          262,
          263,
          306,
          270,
          282,
          292,
          282,
          256,
          247,
          284,
          299,
          302,
          287,
          290,
          279,
          257,
          273,
          282,
          283,
          287,
          283,
          271,
          262,
          265,
          251,
          257,
          252,
          266,
          264,
          268,
          260,
          278,
          262,
          294,
          252,
          256,
          283,
          255,
          262,
          290,
          252,
          266,
          254,
          243,
          289,
          292,
          280,
          289,
          269,
          259,
          294,
          244,
          301,
          279,
          273,
          261,
          275
         ],
         "yaxis": "y"
        },
        {
         "hovertemplate": "trainer=jessie<br>bin=%{x}<br>count=%{y}<extra></extra>",
         "legendgroup": "jessie",
         "line": {
          "color": "#FFA15A",
          "dash": "solid"
         },
         "marker": {
          "symbol": "circle"
         },
         "mode": "lines",
         "name": "jessie",
         "orientation": "v",
         "showlegend": true,
         "type": "scatter",
         "x": [
          "2023-11-22T07:59:00+00:00",
          "2023-11-22T07:58:00+00:00",
          "2023-11-22T07:57:00+00:00",
          "2023-11-22T07:56:00+00:00",
          "2023-11-22T07:55:00+00:00",
          "2023-11-22T07:54:00+00:00",
          "2023-11-22T07:53:00+00:00",
          "2023-11-22T07:52:00+00:00",
          "2023-11-22T07:51:00+00:00",
          "2023-11-22T07:50:00+00:00",
          "2023-11-22T07:49:00+00:00",
          "2023-11-22T07:48:00+00:00",
          "2023-11-22T07:47:00+00:00",
          "2023-11-22T07:46:00+00:00",
          "2023-11-22T07:45:00+00:00",
          "2023-11-22T07:44:00+00:00",
          "2023-11-22T07:43:00+00:00",
          "2023-11-22T07:42:00+00:00",
          "2023-11-22T07:41:00+00:00",
          "2023-11-22T07:40:00+00:00",
          "2023-11-22T07:39:00+00:00",
          "2023-11-22T07:38:00+00:00",
          "2023-11-22T07:37:00+00:00",
          "2023-11-22T07:36:00+00:00",
          "2023-11-22T07:35:00+00:00",
          "2023-11-22T07:34:00+00:00",
          "2023-11-22T07:33:00+00:00",
          "2023-11-22T07:32:00+00:00",
          "2023-11-22T07:31:00+00:00",
          "2023-11-22T07:30:00+00:00",
          "2023-11-22T07:29:00+00:00",
          "2023-11-22T07:28:00+00:00",
          "2023-11-22T07:27:00+00:00",
          "2023-11-22T07:26:00+00:00",
          "2023-11-22T07:25:00+00:00",
          "2023-11-22T07:24:00+00:00",
          "2023-11-22T07:23:00+00:00",
          "2023-11-22T07:22:00+00:00",
          "2023-11-22T07:21:00+00:00",
          "2023-11-22T07:20:00+00:00",
          "2023-11-22T07:19:00+00:00",
          "2023-11-22T07:18:00+00:00",
          "2023-11-22T07:17:00+00:00",
          "2023-11-22T07:16:00+00:00",
          "2023-11-22T07:15:00+00:00",
          "2023-11-22T07:14:00+00:00",
          "2023-11-22T07:13:00+00:00",
          "2023-11-22T07:12:00+00:00",
          "2023-11-22T07:11:00+00:00",
          "2023-11-22T07:10:00+00:00",
          "2023-11-22T07:09:00+00:00",
          "2023-11-22T07:08:00+00:00",
          "2023-11-22T07:07:00+00:00",
          "2023-11-22T07:06:00+00:00",
          "2023-11-22T07:05:00+00:00",
          "2023-11-22T07:04:00+00:00",
          "2023-11-22T07:03:00+00:00",
          "2023-11-22T07:02:00+00:00",
          "2023-11-22T07:01:00+00:00",
          "2023-11-22T07:00:00+00:00",
          "2023-11-22T06:59:00+00:00"
         ],
         "xaxis": "x",
         "y": [
          262,
          285,
          281,
          293,
          250,
          261,
          270,
          241,
          270,
          269,
          255,
          266,
          264,
          300,
          308,
          261,
          278,
          262,
          270,
          260,
          262,
          267,
          256,
          286,
          266,
          275,
          282,
          270,
          275,
          247,
          300,
          278,
          287,
          258,
          274,
          272,
          265,
          269,
          270,
          270,
          291,
          259,
          272,
          281,
          270,
          264,
          264,
          242,
          248,
          261,
          260,
          250,
          281,
          309,
          268,
          269,
          251,
          260,
          282,
          279,
          239
         ],
         "yaxis": "y"
        },
        {
         "hovertemplate": "trainer=brock<br>bin=%{x}<br>count=%{y}<extra></extra>",
         "legendgroup": "brock",
         "line": {
          "color": "#19d3f3",
          "dash": "solid"
         },
         "marker": {
          "symbol": "circle"
         },
         "mode": "lines",
         "name": "brock",
         "orientation": "v",
         "showlegend": true,
         "type": "scatter",
         "x": [
          "2023-11-22T07:59:00+00:00",
          "2023-11-22T07:58:00+00:00",
          "2023-11-22T07:57:00+00:00",
          "2023-11-22T07:56:00+00:00",
          "2023-11-22T07:55:00+00:00",
          "2023-11-22T07:54:00+00:00",
          "2023-11-22T07:53:00+00:00",
          "2023-11-22T07:52:00+00:00",
          "2023-11-22T07:51:00+00:00",
          "2023-11-22T07:50:00+00:00",
          "2023-11-22T07:49:00+00:00",
          "2023-11-22T07:48:00+00:00",
          "2023-11-22T07:47:00+00:00",
          "2023-11-22T07:46:00+00:00",
          "2023-11-22T07:45:00+00:00",
          "2023-11-22T07:44:00+00:00",
          "2023-11-22T07:43:00+00:00",
          "2023-11-22T07:42:00+00:00",
          "2023-11-22T07:41:00+00:00",
          "2023-11-22T07:40:00+00:00",
          "2023-11-22T07:39:00+00:00",
          "2023-11-22T07:38:00+00:00",
          "2023-11-22T07:37:00+00:00",
          "2023-11-22T07:36:00+00:00",
          "2023-11-22T07:35:00+00:00",
          "2023-11-22T07:34:00+00:00",
          "2023-11-22T07:33:00+00:00",
          "2023-11-22T07:32:00+00:00",
          "2023-11-22T07:31:00+00:00",
          "2023-11-22T07:30:00+00:00",
          "2023-11-22T07:29:00+00:00",
          "2023-11-22T07:28:00+00:00",
          "2023-11-22T07:27:00+00:00",
          "2023-11-22T07:26:00+00:00",
          "2023-11-22T07:25:00+00:00",
          "2023-11-22T07:24:00+00:00",
          "2023-11-22T07:23:00+00:00",
          "2023-11-22T07:22:00+00:00",
          "2023-11-22T07:21:00+00:00",
          "2023-11-22T07:20:00+00:00",
          "2023-11-22T07:19:00+00:00",
          "2023-11-22T07:18:00+00:00",
          "2023-11-22T07:17:00+00:00",
          "2023-11-22T07:16:00+00:00",
          "2023-11-22T07:15:00+00:00",
          "2023-11-22T07:14:00+00:00",
          "2023-11-22T07:13:00+00:00",
          "2023-11-22T07:12:00+00:00",
          "2023-11-22T07:11:00+00:00",
          "2023-11-22T07:10:00+00:00",
          "2023-11-22T07:09:00+00:00",
          "2023-11-22T07:08:00+00:00",
          "2023-11-22T07:07:00+00:00",
          "2023-11-22T07:06:00+00:00",
          "2023-11-22T07:05:00+00:00",
          "2023-11-22T07:04:00+00:00",
          "2023-11-22T07:03:00+00:00",
          "2023-11-22T07:02:00+00:00",
          "2023-11-22T07:01:00+00:00",
          "2023-11-22T07:00:00+00:00",
          "2023-11-22T06:59:00+00:00"
         ],
         "xaxis": "x",
         "y": [
          252,
          282,
          254,
          294,
          265,
          289,
          260,
          269,
          266,
          279,
          282,
          279,
          257,
          287,
          283,
          284,
          252,
          294,
          293,
          274,
          294,
          268,
          295,
          291,
          271,
          289,
          254,
          296,
          289,
          281,
          290,
          266,
          292,
          243,
          266,
          284,
          285,
          279,
          233,
          280,
          276,
          271,
          267,
          282,
          285,
          261,
          274,
          266,
          291,
          272,
          249,
          260,
          297,
          288,
          273,
          302,
          276,
          282,
          267,
          266,
          297
         ],
         "yaxis": "y"
        }
       ],
       "layout": {
        "legend": {
         "title": {
          "text": "trainer"
         },
         "tracegroupgap": 0
        },
        "template": {
         "data": {
          "bar": [
           {
            "error_x": {
             "color": "#2a3f5f"
            },
            "error_y": {
             "color": "#2a3f5f"
            },
            "marker": {
             "line": {
              "color": "#E5ECF6",
              "width": 0.5
             },
             "pattern": {
              "fillmode": "overlay",
              "size": 10,
              "solidity": 0.2
             }
            },
            "type": "bar"
           }
          ],
          "barpolar": [
           {
            "marker": {
             "line": {
              "color": "#E5ECF6",
              "width": 0.5
             },
             "pattern": {
              "fillmode": "overlay",
              "size": 10,
              "solidity": 0.2
             }
            },
            "type": "barpolar"
           }
          ],
          "carpet": [
           {
            "aaxis": {
             "endlinecolor": "#2a3f5f",
             "gridcolor": "white",
             "linecolor": "white",
             "minorgridcolor": "white",
             "startlinecolor": "#2a3f5f"
            },
            "baxis": {
             "endlinecolor": "#2a3f5f",
             "gridcolor": "white",
             "linecolor": "white",
             "minorgridcolor": "white",
             "startlinecolor": "#2a3f5f"
            },
            "type": "carpet"
           }
          ],
          "choropleth": [
           {
            "colorbar": {
             "outlinewidth": 0,
             "ticks": ""
            },
            "type": "choropleth"
           }
          ],
          "contour": [
           {
            "colorbar": {
             "outlinewidth": 0,
             "ticks": ""
            },
            "colorscale": [
             [
              0,
              "#0d0887"
             ],
             [
              0.1111111111111111,
              "#46039f"
             ],
             [
              0.2222222222222222,
              "#7201a8"
             ],
             [
              0.3333333333333333,
              "#9c179e"
             ],
             [
              0.4444444444444444,
              "#bd3786"
             ],
             [
              0.5555555555555556,
              "#d8576b"
             ],
             [
              0.6666666666666666,
              "#ed7953"
             ],
             [
              0.7777777777777778,
              "#fb9f3a"
             ],
             [
              0.8888888888888888,
              "#fdca26"
             ],
             [
              1,
              "#f0f921"
             ]
            ],
            "type": "contour"
           }
          ],
          "contourcarpet": [
           {
            "colorbar": {
             "outlinewidth": 0,
             "ticks": ""
            },
            "type": "contourcarpet"
           }
          ],
          "heatmap": [
           {
            "colorbar": {
             "outlinewidth": 0,
             "ticks": ""
            },
            "colorscale": [
             [
              0,
              "#0d0887"
             ],
             [
              0.1111111111111111,
              "#46039f"
             ],
             [
              0.2222222222222222,
              "#7201a8"
             ],
             [
              0.3333333333333333,
              "#9c179e"
             ],
             [
              0.4444444444444444,
              "#bd3786"
             ],
             [
              0.5555555555555556,
              "#d8576b"
             ],
             [
              0.6666666666666666,
              "#ed7953"
             ],
             [
              0.7777777777777778,
              "#fb9f3a"
             ],
             [
              0.8888888888888888,
              "#fdca26"
             ],
             [
              1,
              "#f0f921"
             ]
            ],
            "type": "heatmap"
           }
          ],
          "heatmapgl": [
           {
            "colorbar": {
             "outlinewidth": 0,
             "ticks": ""
            },
            "colorscale": [
             [
              0,
              "#0d0887"
             ],
             [
              0.1111111111111111,
              "#46039f"
             ],
             [
              0.2222222222222222,
              "#7201a8"
             ],
             [
              0.3333333333333333,
              "#9c179e"
             ],
             [
              0.4444444444444444,
              "#bd3786"
             ],
             [
              0.5555555555555556,
              "#d8576b"
             ],
             [
              0.6666666666666666,
              "#ed7953"
             ],
             [
              0.7777777777777778,
              "#fb9f3a"
             ],
             [
              0.8888888888888888,
              "#fdca26"
             ],
             [
              1,
              "#f0f921"
             ]
            ],
            "type": "heatmapgl"
           }
          ],
          "histogram": [
           {
            "marker": {
             "pattern": {
              "fillmode": "overlay",
              "size": 10,
              "solidity": 0.2
             }
            },
            "type": "histogram"
           }
          ],
          "histogram2d": [
           {
            "colorbar": {
             "outlinewidth": 0,
             "ticks": ""
            },
            "colorscale": [
             [
              0,
              "#0d0887"
             ],
             [
              0.1111111111111111,
              "#46039f"
             ],
             [
              0.2222222222222222,
              "#7201a8"
             ],
             [
              0.3333333333333333,
              "#9c179e"
             ],
             [
              0.4444444444444444,
              "#bd3786"
             ],
             [
              0.5555555555555556,
              "#d8576b"
             ],
             [
              0.6666666666666666,
              "#ed7953"
             ],
             [
              0.7777777777777778,
              "#fb9f3a"
             ],
             [
              0.8888888888888888,
              "#fdca26"
             ],
             [
              1,
              "#f0f921"
             ]
            ],
            "type": "histogram2d"
           }
          ],
          "histogram2dcontour": [
           {
            "colorbar": {
             "outlinewidth": 0,
             "ticks": ""
            },
            "colorscale": [
             [
              0,
              "#0d0887"
             ],
             [
              0.1111111111111111,
              "#46039f"
             ],
             [
              0.2222222222222222,
              "#7201a8"
             ],
             [
              0.3333333333333333,
              "#9c179e"
             ],
             [
              0.4444444444444444,
              "#bd3786"
             ],
             [
              0.5555555555555556,
              "#d8576b"
             ],
             [
              0.6666666666666666,
              "#ed7953"
             ],
             [
              0.7777777777777778,
              "#fb9f3a"
             ],
             [
              0.8888888888888888,
              "#fdca26"
             ],
             [
              1,
              "#f0f921"
             ]
            ],
            "type": "histogram2dcontour"
           }
          ],
          "mesh3d": [
           {
            "colorbar": {
             "outlinewidth": 0,
             "ticks": ""
            },
            "type": "mesh3d"
           }
          ],
          "parcoords": [
           {
            "line": {
             "colorbar": {
              "outlinewidth": 0,
              "ticks": ""
             }
            },
            "type": "parcoords"
           }
          ],
          "pie": [
           {
            "automargin": true,
            "type": "pie"
           }
          ],
          "scatter": [
           {
            "fillpattern": {
             "fillmode": "overlay",
             "size": 10,
             "solidity": 0.2
            },
            "type": "scatter"
           }
          ],
          "scatter3d": [
           {
            "line": {
             "colorbar": {
              "outlinewidth": 0,
              "ticks": ""
             }
            },
            "marker": {
             "colorbar": {
              "outlinewidth": 0,
              "ticks": ""
             }
            },
            "type": "scatter3d"
           }
          ],
          "scattercarpet": [
           {
            "marker": {
             "colorbar": {
              "outlinewidth": 0,
              "ticks": ""
             }
            },
            "type": "scattercarpet"
           }
          ],
          "scattergeo": [
           {
            "marker": {
             "colorbar": {
              "outlinewidth": 0,
              "ticks": ""
             }
            },
            "type": "scattergeo"
           }
          ],
          "scattergl": [
           {
            "marker": {
             "colorbar": {
              "outlinewidth": 0,
              "ticks": ""
             }
            },
            "type": "scattergl"
           }
          ],
          "scattermapbox": [
           {
            "marker": {
             "colorbar": {
              "outlinewidth": 0,
              "ticks": ""
             }
            },
            "type": "scattermapbox"
           }
          ],
          "scatterpolar": [
           {
            "marker": {
             "colorbar": {
              "outlinewidth": 0,
              "ticks": ""
             }
            },
            "type": "scatterpolar"
           }
          ],
          "scatterpolargl": [
           {
            "marker": {
             "colorbar": {
              "outlinewidth": 0,
              "ticks": ""
             }
            },
            "type": "scatterpolargl"
           }
          ],
          "scatterternary": [
           {
            "marker": {
             "colorbar": {
              "outlinewidth": 0,
              "ticks": ""
             }
            },
            "type": "scatterternary"
           }
          ],
          "surface": [
           {
            "colorbar": {
             "outlinewidth": 0,
             "ticks": ""
            },
            "colorscale": [
             [
              0,
              "#0d0887"
             ],
             [
              0.1111111111111111,
              "#46039f"
             ],
             [
              0.2222222222222222,
              "#7201a8"
             ],
             [
              0.3333333333333333,
              "#9c179e"
             ],
             [
              0.4444444444444444,
              "#bd3786"
             ],
             [
              0.5555555555555556,
              "#d8576b"
             ],
             [
              0.6666666666666666,
              "#ed7953"
             ],
             [
              0.7777777777777778,
              "#fb9f3a"
             ],
             [
              0.8888888888888888,
              "#fdca26"
             ],
             [
              1,
              "#f0f921"
             ]
            ],
            "type": "surface"
           }
          ],
          "table": [
           {
            "cells": {
             "fill": {
              "color": "#EBF0F8"
             },
             "line": {
              "color": "white"
             }
            },
            "header": {
             "fill": {
              "color": "#C8D4E3"
             },
             "line": {
              "color": "white"
             }
            },
            "type": "table"
           }
          ]
         },
         "layout": {
          "annotationdefaults": {
           "arrowcolor": "#2a3f5f",
           "arrowhead": 0,
           "arrowwidth": 1
          },
          "autotypenumbers": "strict",
          "coloraxis": {
           "colorbar": {
            "outlinewidth": 0,
            "ticks": ""
           }
          },
          "colorscale": {
           "diverging": [
            [
             0,
             "#8e0152"
            ],
            [
             0.1,
             "#c51b7d"
            ],
            [
             0.2,
             "#de77ae"
            ],
            [
             0.3,
             "#f1b6da"
            ],
            [
             0.4,
             "#fde0ef"
            ],
            [
             0.5,
             "#f7f7f7"
            ],
            [
             0.6,
             "#e6f5d0"
            ],
            [
             0.7,
             "#b8e186"
            ],
            [
             0.8,
             "#7fbc41"
            ],
            [
             0.9,
             "#4d9221"
            ],
            [
             1,
             "#276419"
            ]
           ],
           "sequential": [
            [
             0,
             "#0d0887"
            ],
            [
             0.1111111111111111,
             "#46039f"
            ],
            [
             0.2222222222222222,
             "#7201a8"
            ],
            [
             0.3333333333333333,
             "#9c179e"
            ],
            [
             0.4444444444444444,
             "#bd3786"
            ],
            [
             0.5555555555555556,
             "#d8576b"
            ],
            [
             0.6666666666666666,
             "#ed7953"
            ],
            [
             0.7777777777777778,
             "#fb9f3a"
            ],
            [
             0.8888888888888888,
             "#fdca26"
            ],
            [
             1,
             "#f0f921"
            ]
           ],
           "sequentialminus": [
            [
             0,
             "#0d0887"
            ],
            [
             0.1111111111111111,
             "#46039f"
            ],
            [
             0.2222222222222222,
             "#7201a8"
            ],
            [
             0.3333333333333333,
             "#9c179e"
            ],
            [
             0.4444444444444444,
             "#bd3786"
            ],
            [
             0.5555555555555556,
             "#d8576b"
            ],
            [
             0.6666666666666666,
             "#ed7953"
            ],
            [
             0.7777777777777778,
             "#fb9f3a"
            ],
            [
             0.8888888888888888,
             "#fdca26"
            ],
            [
             1,
             "#f0f921"
            ]
           ]
          },
          "colorway": [
           "#636efa",
           "#EF553B",
           "#00cc96",
           "#ab63fa",
           "#FFA15A",
           "#19d3f3",
           "#FF6692",
           "#B6E880",
           "#FF97FF",
           "#FECB52"
          ],
          "font": {
           "color": "#2a3f5f"
          },
          "geo": {
           "bgcolor": "white",
           "lakecolor": "white",
           "landcolor": "#E5ECF6",
           "showlakes": true,
           "showland": true,
           "subunitcolor": "white"
          },
          "hoverlabel": {
           "align": "left"
          },
          "hovermode": "closest",
          "mapbox": {
           "style": "light"
          },
          "paper_bgcolor": "white",
          "plot_bgcolor": "#E5ECF6",
          "polar": {
           "angularaxis": {
            "gridcolor": "white",
            "linecolor": "white",
            "ticks": ""
           },
           "bgcolor": "#E5ECF6",
           "radialaxis": {
            "gridcolor": "white",
            "linecolor": "white",
            "ticks": ""
           }
          },
          "scene": {
           "xaxis": {
            "backgroundcolor": "#E5ECF6",
            "gridcolor": "white",
            "gridwidth": 2,
            "linecolor": "white",
            "showbackground": true,
            "ticks": "",
            "zerolinecolor": "white"
           },
           "yaxis": {
            "backgroundcolor": "#E5ECF6",
            "gridcolor": "white",
            "gridwidth": 2,
            "linecolor": "white",
            "showbackground": true,
            "ticks": "",
            "zerolinecolor": "white"
           },
           "zaxis": {
            "backgroundcolor": "#E5ECF6",
            "gridcolor": "white",
            "gridwidth": 2,
            "linecolor": "white",
            "showbackground": true,
            "ticks": "",
            "zerolinecolor": "white"
           }
          },
          "shapedefaults": {
           "line": {
            "color": "#2a3f5f"
           }
          },
          "ternary": {
           "aaxis": {
            "gridcolor": "white",
            "linecolor": "white",
            "ticks": ""
           },
           "baxis": {
            "gridcolor": "white",
            "linecolor": "white",
            "ticks": ""
           },
           "bgcolor": "#E5ECF6",
           "caxis": {
            "gridcolor": "white",
            "linecolor": "white",
            "ticks": ""
           }
          },
          "title": {
           "x": 0.05
          },
          "xaxis": {
           "automargin": true,
           "gridcolor": "white",
           "linecolor": "white",
           "ticks": "",
           "title": {
            "standoff": 15
           },
           "zerolinecolor": "white",
           "zerolinewidth": 2
          },
          "yaxis": {
           "automargin": true,
           "gridcolor": "white",
           "linecolor": "white",
           "ticks": "",
           "title": {
            "standoff": 15
           },
           "zerolinecolor": "white",
           "zerolinewidth": 2
          }
         }
        },
        "title": {
         "text": "Number of Pokémon caught in the last hour grouped by trainer and time"
        },
        "xaxis": {
         "anchor": "y",
         "domain": [
          0,
          1
         ],
         "title": {
          "text": "bin"
         }
        },
        "yaxis": {
         "anchor": "x",
         "domain": [
          0,
          1
         ],
         "title": {
          "text": "count"
         }
        }
       }
      }
     },
     "metadata": {},
     "output_type": "display_data"
    }
   ],
   "source": [
    "query='''SELECT trainer,\n",
    "  date_bin(INTERVAL '1 minute', timestamp, TIMESTAMP '1970-01-01 00:00:00Z') AS bin,\n",
    "  count(\"name\") AS count\n",
    "FROM caught\n",
    "GROUP BY bin, trainer\n",
    "ORDER BY bin DESC'''\n",
    "\n",
    "ticket_bytes = json.dumps({'sql':query, 'table':'caught'})\n",
    "ticket = Ticket(ticket_bytes)\n",
    "reader = client.do_get(ticket)\n",
    "df = reader.read_all().to_pandas()\n",
    "print(df)\n",
    "\n",
    "fig4 = px.line(df, x=\"bin\", y=\"count\", color='trainer', title='Number of Pokémon caught in the last hour grouped by trainer and time')\n",
    "fig4.show()"
   ]
  },
  {
   "cell_type": "markdown",
   "metadata": {},
   "source": [
    "## Pandas and Polars"
   ]
  },
  {
   "cell_type": "code",
   "execution_count": 62,
   "metadata": {},
   "outputs": [
    {
     "name": "stdout",
     "output_type": "stream",
     "text": [
      "Pandas == Arrow Table Conversion\n",
      "Elapsed time: 0.0016376972198486328 seconds\n",
      "Polars == Arrow table Conversion \n",
      "Elapsed time: 0.0011777877807617188 seconds\n",
      "Pandas == Resampling\n",
      "Elapsed time: 0.03808093070983887 seconds\n",
      "Polars == Resampling\n",
      "Elapsed time: 0.00047016143798828125 seconds\n",
      "Pandas == to Arrow \n",
      "Elapsed time: 0.0009930133819580078 seconds\n",
      "Polars == to Arrow\n",
      "Elapsed time: 0.0001399517059326172 seconds\n"
     ]
    }
   ],
   "source": [
    "import time\n",
    "import pandas as pd\n",
    "import polars as pl\n",
    "\n",
    "class CodeTimer:\n",
    "    def __init__(self):\n",
    "        self.start_time = None\n",
    "        self.end_time = None\n",
    "\n",
    "    def start(self):\n",
    "        self.start_time = time.time()\n",
    "\n",
    "    def stop(self):\n",
    "        if self.start_time is None:\n",
    "            raise Exception(\"Timer has not been started. Use .start() method to start it.\")\n",
    "\n",
    "        self.end_time = time.time()\n",
    "        elapsed_time = self.end_time - self.start_time\n",
    "        print(f\"Elapsed time: {elapsed_time} seconds\")\n",
    "\n",
    "\n",
    "\n",
    "query='''SELECT timestamp, attack FROM caught'''\n",
    "ticket_bytes = json.dumps({'sql':query, 'table':'caught'})\n",
    "ticket = Ticket(ticket_bytes)\n",
    "reader = client.do_get(ticket)\n",
    "table = reader.read_all()\n",
    "\n",
    "print(\"Pandas == Arrow Table Conversion\")\n",
    "timer = CodeTimer()\n",
    "timer.start()\n",
    "df = table.to_pandas()\n",
    "timer.stop()\n",
    "df = df.set_index(\"timestamp\")\n",
    "\n",
    "\n",
    "print(\"Polars == Arrow table Conversion \")\n",
    "timer = CodeTimer()\n",
    "timer.start()\n",
    "pdf = pl.from_arrow(table)\n",
    "timer.stop()\n",
    "\n",
    "print(\"Pandas == Resampling\")\n",
    "timer = CodeTimer()\n",
    "timer.start()\n",
    "result_pandas = df.resample('1T').mean()\n",
    "timer.stop()\n",
    "\n",
    "pdf = pdf.sort(\"timestamp\")\n",
    "print(\"Polars == Resampling\")\n",
    "timer = CodeTimer()\n",
    "timer.start()\n",
    "result_polars = pdf.group_by_dynamic(\n",
    "    index_column='timestamp', \n",
    "    every='1h', \n",
    "    closed='left', \n",
    "    include_boundaries=True\n",
    ").agg([\n",
    "    pl.col('attack').mean().alias('mean_value')\n",
    "])\n",
    "timer.stop()\n",
    "\n",
    "print(\"Pandas == to Arrow \")\n",
    "timer = CodeTimer()\n",
    "timer.start()\n",
    "table = pa.Table.from_pandas(result_pandas)\n",
    "timer.stop()\n",
    "\n",
    "print(\"Polars == to Arrow\")\n",
    "timer = CodeTimer()\n",
    "timer.start()\n",
    "table=result_polars.to_arrow()\n",
    "timer.stop()"
   ]
  },
  {
   "cell_type": "markdown",
   "metadata": {},
   "source": [
    "# Conclusion\n",
    "We have now covered the basics of the InfluxDB 3.0 Python Client. I hope you found this novel cook book informative and fun. If you have any questions, bugs or feature requests please raise an issue on the [GitHub repo](https://github.com/InfluxCommunity/influxdb3-python/issues)\n",
    "\n",
    "\n",
    "<p align=\"center\">\n",
    "<img height=\"100\", width=\"100\" src=\"https://i.pinimg.com/originals/18/15/44/181544facabe62d30c52e94b369f0f3a.png\">\n",
    "</p>"
   ]
  }
 ],
 "metadata": {
  "kernelspec": {
   "display_name": ".venv",
   "language": "python",
   "name": "python3"
  },
  "language_info": {
   "codemirror_mode": {
    "name": "ipython",
    "version": 3
   },
   "file_extension": ".py",
   "mimetype": "text/x-python",
   "name": "python",
   "nbconvert_exporter": "python",
   "pygments_lexer": "ipython3",
   "version": "3.11.5"
  },
  "orig_nbformat": 4
 },
 "nbformat": 4,
 "nbformat_minor": 2
}
